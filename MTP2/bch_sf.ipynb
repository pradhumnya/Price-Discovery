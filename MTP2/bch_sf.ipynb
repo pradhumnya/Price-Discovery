{
 "cells": [
  {
   "cell_type": "code",
   "execution_count": 1,
   "metadata": {},
   "outputs": [],
   "source": [
    "import pandas as pd\n",
    "import numpy as np\n",
    "import matplotlib.pyplot as plt\n",
    "import warnings\n",
    "from scipy.stats import skew, kurtosis\n",
    "import statsmodels.tsa.vector_ar.vecm as vecm\n",
    "from statsmodels.tsa.vector_ar.vecm import coint_johansen, VECM\n",
    "from statsmodels.tsa.stattools import adfuller, acf\n",
    "from statsmodels.tsa.vector_ar.var_model import VAR\n",
    "from statsmodels.stats.sandwich_covariance import cov_hac\n",
    "from statsmodels.graphics.tsaplots import plot_acf\n",
    "from statsmodels.tools.sm_exceptions import ValueWarning\n",
    "from statsmodels.stats.diagnostic import acorr_ljungbox, het_arch, breaks_cusumolsresid\n",
    "import statsmodels.stats.sandwich_covariance as sw\n",
    "from statsmodels.stats.sandwich_covariance import cov_hac, weights_bartlett\n",
    "\n"
   ]
  },
  {
   "cell_type": "code",
   "execution_count": 2,
   "metadata": {},
   "outputs": [],
   "source": [
    "btc = pd.read_csv('BTCUSDT_filtered.csv')\n",
    "btc_f = pd.read_csv('BTCUSDT_futures_filtered.csv')\n",
    "eth = pd.read_csv('ETHUSDT_filtered.csv')\n",
    "eth_f = pd.read_csv('ETHUSDT_futures_filtered.csv')\n",
    "bch = pd.read_csv('BCHUSDT_filtered.csv')\n",
    "bch_f = pd.read_csv('BCHUSDT_futures_filtered.csv')\n",
    "doge = pd.read_csv('DOGEUSDT_filtered.csv')\n",
    "doge_f = pd.read_csv('DOGEUSDT_futures_filtered.csv')\n",
    "spot_data = bch.copy()\n",
    "futures_data = bch_f.copy()"
   ]
  },
  {
   "cell_type": "code",
   "execution_count": 3,
   "metadata": {},
   "outputs": [],
   "source": [
    "\n",
    "def describe_returns(data):\n",
    "    mean = data['daily_return'].mean()\n",
    "    std_dev = data['daily_return'].std()\n",
    "    skewness = skew(data['daily_return'].dropna())\n",
    "    kurt = kurtosis(data['daily_return'].dropna())\n",
    "    autocorr = data['daily_return'].autocorr()\n",
    "\n",
    "    return {'mean': mean, 'std_dev': std_dev, 'skewness': skewness, 'kurtosis': kurt, 'autocorrelation': autocorr}\n",
    "\n",
    "# Selecting optimal lag order using BIC\n",
    "def select_k_ar_diff(data, maxlags=168, trend='ct'):\n",
    "    bic_values = []\n",
    "    for lag in range(1, maxlags + 1):\n",
    "        model = VAR(data)\n",
    "        result = model.fit(lag, trend=trend)\n",
    "        bic_values.append(result.bic)\n",
    "    \n",
    "    optimal_lag = bic_values.index(min(bic_values)) + 1\n",
    "    return optimal_lag\n",
    "\n",
    "#ADF Test\n",
    "def adf_test(series):\n",
    "    result = adfuller(series)\n",
    "    print(f\"ADF Statistic: {result[0]}\")\n",
    "    print(f\"p-value: {result[1]}\")\n",
    "    for key, value in result[4].items():\n",
    "        print('\\t%s: %.3f' % (key, value))\n",
    "    print(\"\")\n",
    "\n",
    "# Johansen cointegration test\n",
    "def johansen_test(s1, s2):\n",
    "    df = pd.concat([s1, s2], axis=1).dropna()\n",
    "    df.columns = ['spot_log_price', 'futures_log_price']\n",
    "    k_ar_diff = select_k_ar_diff(df)\n",
    "    print(f\"Optimal lag order (k_ar_diff) based on BIC: {k_ar_diff}\")\n",
    "\n",
    "    result = coint_johansen(df, det_order=1, k_ar_diff=k_ar_diff)\n",
    "    print(\"Johansen Cointegration Test:\")\n",
    "    print(\"Trace Statistic:\")\n",
    "    print(result.lr1)\n",
    "    print(\"Critical Values (90%, 95%, 99%):\")\n",
    "    print(result.cvt)\n",
    "    print(\"\")\n",
    "    print(\"Eigen Statistic:\")\n",
    "    print(result.lr2)\n",
    "    print(\"Critical Values (90%, 95%, 99%):\")\n",
    "    print(result.cvm)\n",
    "    print(\"\")\n",
    "    return k_ar_diff\n",
    "\n",
    "# Ljung-Box Q test\n",
    "def ljung_box_test(series, lags=None, significance_level=0.05, title=''):\n",
    "    result = acorr_ljungbox(series, lags=lags, return_df=True)\n",
    "    print(f\"Ljung-Box Q Test ({title}):\")\n",
    "    print(result)\n",
    "\n",
    "    autocorrelated_lags = result[result['lb_pvalue'] < significance_level].index\n",
    "    if autocorrelated_lags.empty:\n",
    "        print(f\"No autocorrelation found up to lag {lags} at significance level {significance_level}\")\n",
    "    else:\n",
    "        print(f\"Autocorrelation found for lags: {autocorrelated_lags.tolist()} at significance level {significance_level}\")\n",
    "    print(\"\")\n",
    "\n",
    "# Engle's ARCH test\n",
    "def arch_test(series, lags=None, title=''):\n",
    "    test_stat, p_value, _, _ = het_arch(series, nlags=lags)\n",
    "    print(f\"Engle's ARCH Test ({title}):\")\n",
    "    print(f\"Test Statistic: {test_stat}\")\n",
    "    print(f\"P-value: {p_value}\")\n",
    "\n",
    "    significance_level = 0.05\n",
    "    if p_value < significance_level:\n",
    "        print(f\"Reject the null hypothesis: Conditional heteroscedasticity is present at significance level {significance_level}\")\n",
    "    else:\n",
    "        print(f\"Fail to reject the null hypothesis: No evidence of conditional heteroscedasticity at significance level {significance_level}\")\n",
    "    print(\"\")\n"
   ]
  },
  {
   "cell_type": "code",
   "execution_count": 4,
   "metadata": {},
   "outputs": [],
   "source": [
    "# Convert the timestamp to datetime\n",
    "spot_data['Date'] = pd.to_datetime(spot_data['Date'])\n",
    "futures_data['Date'] = pd.to_datetime(futures_data['Date'])\n",
    "\n",
    "# Calculate log prices\n",
    "spot_data['log_price'] = np.log(spot_data['Close'])\n",
    "futures_data['log_price'] = np.log(futures_data['Close'])\n",
    "\n",
    "# Resample hourly data to daily data\n",
    "spot_daily = spot_data.resample('D', on='Date').last()\n",
    "futures_daily = futures_data.resample('D', on='Date').last()\n",
    "\n",
    "# Calculate daily returns\n",
    "spot_daily['daily_return'] = spot_daily['log_price'].pct_change()\n",
    "futures_daily['daily_return'] = futures_daily['log_price'].pct_change()\n",
    "spot_daily = spot_daily.dropna()\n",
    "futures_daily = futures_daily.dropna()\n"
   ]
  },
  {
   "cell_type": "code",
   "execution_count": 5,
   "metadata": {},
   "outputs": [
    {
     "name": "stdout",
     "output_type": "stream",
     "text": [
      "Spot Daily Returns Description: {'mean': -5.119457063810327e-05, 'std_dev': 0.009968674413851318, 'skewness': -1.0306033176063698, 'kurtosis': 17.695231131886146, 'autocorrelation': -0.12881661308815087}\n",
      "Futures Daily Returns Description: {'mean': -5.1011314947859964e-05, 'std_dev': 0.010018773846512513, 'skewness': -1.0697460220440858, 'kurtosis': 18.36050210178791, 'autocorrelation': -0.13123256807628572}\n"
     ]
    }
   ],
   "source": [
    "spot_stats = describe_returns(spot_daily)\n",
    "futures_stats = describe_returns(futures_daily)\n",
    "\n",
    "print(\"Spot Daily Returns Description:\", spot_stats)\n",
    "print(\"Futures Daily Returns Description:\", futures_stats)"
   ]
  },
  {
   "cell_type": "code",
   "execution_count": 6,
   "metadata": {},
   "outputs": [
    {
     "name": "stdout",
     "output_type": "stream",
     "text": [
      "ADF Test for Spot Hourly Log Prices:\n",
      "ADF Statistic: -0.9901879821218502\n",
      "p-value: 0.7568261650773558\n",
      "\t1%: -3.431\n",
      "\t5%: -2.862\n",
      "\t10%: -2.567\n",
      "\n",
      "\n",
      "ADF Test for Futures Hourly Log Prices:\n",
      "ADF Statistic: -0.9909182139053128\n",
      "p-value: 0.7565622449647764\n",
      "\t1%: -3.431\n",
      "\t5%: -2.862\n",
      "\t10%: -2.567\n",
      "\n"
     ]
    }
   ],
   "source": [
    "# Test for stationarity\n",
    "print(\"ADF Test for Spot Hourly Log Prices:\")\n",
    "adf_test(spot_data['log_price'])\n",
    "print(\"\\nADF Test for Futures Hourly Log Prices:\")\n",
    "adf_test(futures_data['log_price'])"
   ]
  },
  {
   "cell_type": "code",
   "execution_count": 7,
   "metadata": {},
   "outputs": [
    {
     "name": "stdout",
     "output_type": "stream",
     "text": [
      "ADF Test for Spot Hourly Log Prices:\n",
      "ADF Statistic: -24.696728831152274\n",
      "p-value: 0.0\n",
      "\t1%: -3.431\n",
      "\t5%: -2.862\n",
      "\t10%: -2.567\n",
      "\n",
      "\n",
      "ADF Test for Futures Hourly Log Prices:\n",
      "ADF Statistic: -24.774854498674653\n",
      "p-value: 0.0\n",
      "\t1%: -3.431\n",
      "\t5%: -2.862\n",
      "\t10%: -2.567\n",
      "\n"
     ]
    }
   ],
   "source": [
    "spot_data['log_price_diff'] = spot_data['log_price'].diff()\n",
    "futures_data['log_price_diff'] = futures_data['log_price'].diff()\n",
    "\n",
    "spot_data = spot_data.dropna()\n",
    "futures_data = futures_data.dropna()\n",
    "print(\"ADF Test for Spot Hourly Log Prices:\")\n",
    "adf_test(spot_data['log_price_diff'])\n",
    "print(\"\\nADF Test for Futures Hourly Log Prices:\")\n",
    "adf_test(futures_data['log_price_diff'])\n",
    "\n",
    "\n"
   ]
  },
  {
   "cell_type": "code",
   "execution_count": 8,
   "metadata": {},
   "outputs": [
    {
     "name": "stdout",
     "output_type": "stream",
     "text": [
      "Optimal lag order (k_ar_diff) based on BIC: 15\n",
      "Johansen Cointegration Test:\n",
      "Trace Statistic:\n",
      "[5088.3706133  1578.85689524]\n",
      "Critical Values (90%, 95%, 99%):\n",
      "[[16.1619 18.3985 23.1485]\n",
      " [ 2.7055  3.8415  6.6349]]\n",
      "\n",
      "Eigen Statistic:\n",
      "[3509.51371806 1578.85689524]\n",
      "Critical Values (90%, 95%, 99%):\n",
      "[[15.0006 17.1481 21.7465]\n",
      " [ 2.7055  3.8415  6.6349]]\n",
      "\n"
     ]
    }
   ],
   "source": [
    "warnings.filterwarnings(\"ignore\", category=ValueWarning)\n",
    "o_lag = johansen_test(spot_data['log_price_diff'], futures_data['log_price_diff'])"
   ]
  },
  {
   "cell_type": "code",
   "execution_count": 9,
   "metadata": {},
   "outputs": [
    {
     "name": "stdout",
     "output_type": "stream",
     "text": [
      "Ljung-Box Q Test (Spot Log-Price Differences):\n",
      "       lb_stat     lb_pvalue\n",
      "1    11.760115  6.051349e-04\n",
      "2    36.260898  1.336737e-08\n",
      "3    40.780930  7.277547e-09\n",
      "4    44.445560  5.184220e-09\n",
      "5    44.657872  1.702816e-08\n",
      "6    46.807270  2.044269e-08\n",
      "7    50.313253  1.253711e-08\n",
      "8    59.161955  6.804070e-10\n",
      "9    61.260956  7.656567e-10\n",
      "10   61.589058  1.811280e-09\n",
      "11   76.455612  7.120428e-12\n",
      "12   94.821678  5.717355e-15\n",
      "13   96.681005  7.272750e-15\n",
      "14   99.704099  5.403815e-15\n",
      "15  100.588069  1.009267e-14\n",
      "Autocorrelation found for lags: [1, 2, 3, 4, 5, 6, 7, 8, 9, 10, 11, 12, 13, 14, 15] at significance level 0.01\n",
      "\n",
      "Ljung-Box Q Test (Futures Log-Price Differences):\n",
      "       lb_stat     lb_pvalue\n",
      "1     1.711576  1.907810e-01\n",
      "2    66.623030  3.411873e-15\n",
      "3    86.467283  1.256529e-18\n",
      "4    93.148743  2.820853e-19\n",
      "5    94.066300  9.386594e-19\n",
      "6    94.144210  4.166665e-18\n",
      "7    95.157781  1.075574e-17\n",
      "8   103.827384  7.033864e-19\n",
      "9   104.002958  2.432748e-18\n",
      "10  105.099329  5.172700e-18\n",
      "11  138.875580  2.757563e-24\n",
      "12  160.769454  3.660680e-28\n",
      "13  160.863016  1.318295e-27\n",
      "14  164.295980  9.690180e-28\n",
      "15  165.499843  1.952443e-27\n",
      "Autocorrelation found for lags: [2, 3, 4, 5, 6, 7, 8, 9, 10, 11, 12, 13, 14, 15] at significance level 0.01\n",
      "\n"
     ]
    }
   ],
   "source": [
    "\n",
    "ljung_box_test(spot_data['log_price_diff'], lags=o_lag, significance_level = 0.01, title=\"Spot Log-Price Differences\")\n",
    "ljung_box_test(futures_data['log_price_diff'], lags=o_lag, significance_level = 0.01, title=\"Futures Log-Price Differences\")"
   ]
  },
  {
   "cell_type": "code",
   "execution_count": 10,
   "metadata": {},
   "outputs": [
    {
     "name": "stdout",
     "output_type": "stream",
     "text": [
      "Engle's ARCH Test (Spot Log-Price Differences):\n",
      "Test Statistic: 1779.2093058651367\n",
      "P-value: 0.0\n",
      "Reject the null hypothesis: Conditional heteroscedasticity is present at significance level 0.05\n",
      "\n",
      "Engle's ARCH Test (Futures Log-Price Differences):\n",
      "Test Statistic: 4924.103996990094\n",
      "P-value: 0.0\n",
      "Reject the null hypothesis: Conditional heteroscedasticity is present at significance level 0.05\n",
      "\n"
     ]
    }
   ],
   "source": [
    "arch_test(spot_data['log_price_diff'], lags=o_lag, title=\"Spot Log-Price Differences\")\n",
    "arch_test(futures_data['log_price_diff'], lags=o_lag, title=\"Futures Log-Price Differences\")"
   ]
  },
  {
   "cell_type": "code",
   "execution_count": 11,
   "metadata": {},
   "outputs": [
    {
     "name": "stdout",
     "output_type": "stream",
     "text": [
      "Det. terms outside the coint. relation & lagged endog. parameters for equation spot\n",
      "==============================================================================\n",
      "                 coef    std err          z      P>|z|      [0.025      0.975]\n",
      "------------------------------------------------------------------------------\n",
      "const       8.263e-07   7.02e-05      0.012      0.991      -0.000       0.000\n",
      "L1.spot       -1.6084      0.486     -3.310      0.001      -2.561      -0.656\n",
      "L1.future      0.6368      0.483      1.317      0.188      -0.311       1.584\n",
      "L2.spot       -1.2738      0.468     -2.721      0.007      -2.191      -0.356\n",
      "L2.future      0.3381      0.466      0.726      0.468      -0.575       1.251\n",
      "L3.spot       -0.7624      0.445     -1.712      0.087      -1.635       0.111\n",
      "L3.future     -0.1200      0.443     -0.271      0.787      -0.989       0.749\n",
      "L4.spot       -0.4445      0.419     -1.060      0.289      -1.266       0.377\n",
      "L4.future     -0.3785      0.417     -0.907      0.364      -1.196       0.439\n",
      "L5.spot       -0.3612      0.391     -0.924      0.355      -1.127       0.405\n",
      "L5.future     -0.4023      0.389     -1.035      0.301      -1.164       0.360\n",
      "L6.spot       -0.1381      0.360     -0.384      0.701      -0.844       0.567\n",
      "L6.future     -0.5610      0.358     -1.568      0.117      -1.262       0.140\n",
      "L7.spot       -0.0065      0.327     -0.020      0.984      -0.647       0.635\n",
      "L7.future     -0.6365      0.325     -1.959      0.050      -1.273       0.000\n",
      "L8.spot        0.1666      0.292      0.570      0.569      -0.406       0.739\n",
      "L8.future     -0.7217      0.290     -2.487      0.013      -1.291      -0.153\n",
      "L9.spot        0.4172      0.256      1.628      0.103      -0.085       0.919\n",
      "L9.future     -0.8922      0.254     -3.510      0.000      -1.390      -0.394\n",
      "L10.spot       0.3598      0.219      1.641      0.101      -0.070       0.789\n",
      "L10.future    -0.7652      0.217     -3.522      0.000      -1.191      -0.339\n",
      "L11.spot       0.0536      0.182      0.295      0.768      -0.302       0.410\n",
      "L11.future    -0.3749      0.180     -2.085      0.037      -0.727      -0.022\n",
      "L12.spot      -0.1081      0.144     -0.751      0.453      -0.390       0.174\n",
      "L12.future    -0.1328      0.142     -0.935      0.350      -0.411       0.146\n",
      "L13.spot      -0.1282      0.106     -1.205      0.228      -0.337       0.080\n",
      "L13.future    -0.0413      0.105     -0.395      0.693      -0.246       0.164\n",
      "L14.spot      -0.1152      0.070     -1.651      0.099      -0.252       0.022\n",
      "L14.future     0.0006      0.068      0.008      0.993      -0.133       0.134\n",
      "L15.spot      -0.0686      0.035     -1.941      0.052      -0.138       0.001\n",
      "L15.future     0.0233      0.034      0.675      0.500      -0.044       0.091\n",
      "Det. terms outside the coint. relation & lagged endog. parameters for equation future\n",
      "==============================================================================\n",
      "                 coef    std err          z      P>|z|      [0.025      0.975]\n",
      "------------------------------------------------------------------------------\n",
      "const      -1.639e-06   7.11e-05     -0.023      0.982      -0.000       0.000\n",
      "L1.spot       -5.1372      0.492    -10.433      0.000      -6.102      -4.172\n",
      "L1.future      4.1702      0.490      8.513      0.000       3.210       5.130\n",
      "L2.spot       -4.2046      0.474     -8.865      0.000      -5.134      -3.275\n",
      "L2.future      3.2782      0.472      6.947      0.000       2.353       4.203\n",
      "L3.spot       -3.1984      0.451     -7.086      0.000      -4.083      -2.314\n",
      "L3.future      2.3266      0.449      5.181      0.000       1.446       3.207\n",
      "L4.spot       -2.4696      0.425     -5.812      0.000      -3.302      -1.637\n",
      "L4.future      1.6551      0.423      3.914      0.000       0.826       2.484\n",
      "L5.spot       -2.0372      0.396     -5.145      0.000      -2.813      -1.261\n",
      "L5.future      1.2806      0.394      3.251      0.001       0.509       2.053\n",
      "L6.spot       -1.5132      0.365     -4.148      0.000      -2.228      -0.798\n",
      "L6.future      0.8170      0.363      2.253      0.024       0.106       1.528\n",
      "L7.spot       -1.1210      0.331     -3.383      0.001      -1.771      -0.471\n",
      "L7.future      0.4811      0.329      1.461      0.144      -0.164       1.126\n",
      "L8.spot       -0.7262      0.296     -2.452      0.014      -1.307      -0.146\n",
      "L8.future      0.1738      0.294      0.591      0.555      -0.403       0.750\n",
      "L9.spot       -0.2849      0.260     -1.097      0.272      -0.794       0.224\n",
      "L9.future     -0.1842      0.258     -0.715      0.474      -0.689       0.321\n",
      "L10.spot      -0.1899      0.222     -0.855      0.392      -0.625       0.245\n",
      "L10.future    -0.2120      0.220     -0.963      0.336      -0.643       0.220\n",
      "L11.spot      -0.3562      0.184     -1.935      0.053      -0.717       0.005\n",
      "L11.future     0.0391      0.182      0.215      0.830      -0.318       0.396\n",
      "L12.spot      -0.3845      0.146     -2.635      0.008      -0.670      -0.099\n",
      "L12.future     0.1500      0.144      1.042      0.297      -0.132       0.432\n",
      "L13.spot      -0.2946      0.108     -2.732      0.006      -0.506      -0.083\n",
      "L13.future     0.1298      0.106      1.226      0.220      -0.078       0.337\n",
      "L14.spot      -0.1980      0.071     -2.802      0.005      -0.337      -0.060\n",
      "L14.future     0.0868      0.069      1.255      0.209      -0.049       0.222\n",
      "L15.spot      -0.0968      0.036     -2.700      0.007      -0.167      -0.027\n",
      "L15.future     0.0537      0.035      1.536      0.124      -0.015       0.122\n",
      "                Loading coefficients (alpha) for equation spot                \n",
      "==============================================================================\n",
      "                 coef    std err          z      P>|z|      [0.025      0.975]\n",
      "------------------------------------------------------------------------------\n",
      "ec1            0.7877      0.497      1.585      0.113      -0.187       1.762\n",
      "               Loading coefficients (alpha) for equation future               \n",
      "==============================================================================\n",
      "                 coef    std err          z      P>|z|      [0.025      0.975]\n",
      "------------------------------------------------------------------------------\n",
      "ec1            6.0440      0.504     11.999      0.000       5.057       7.031\n",
      "          Cointegration relations for loading-coefficients-column 1           \n",
      "==============================================================================\n",
      "                 coef    std err          z      P>|z|      [0.025      0.975]\n",
      "------------------------------------------------------------------------------\n",
      "beta.1         1.0000          0          0      0.000       1.000       1.000\n",
      "beta.2        -0.9951      0.001  -1184.393      0.000      -0.997      -0.993\n",
      "lin_trend   3.876e-11   2.89e-10      0.134      0.893   -5.27e-10    6.05e-10\n",
      "==============================================================================\n"
     ]
    }
   ],
   "source": [
    "# Fit VECM model\n",
    "data = pd.concat([spot_data['log_price_diff'], futures_data['log_price_diff']], axis=1)\n",
    "data.columns = ['spot', 'future']\n",
    "vecm_model = vecm.VECM(data, k_ar_diff=o_lag , coint_rank=1, deterministic='coli')\n",
    "vecm_fit = vecm_model.fit()\n",
    "vecm_resid = vecm_fit.resid\n",
    "print(vecm_fit.summary())"
   ]
  },
  {
   "cell_type": "code",
   "execution_count": 12,
   "metadata": {},
   "outputs": [
    {
     "name": "stdout",
     "output_type": "stream",
     "text": [
      "Shape of the residuals: (27691, 2)\n",
      "First few rows of the residuals:\n",
      " [[-0.00108446 -0.00067662]\n",
      " [-0.00437841 -0.0039543 ]\n",
      " [ 0.00602326  0.0061517 ]\n",
      " [-0.00380893 -0.00436263]\n",
      " [-0.00376066 -0.00363363]]\n"
     ]
    }
   ],
   "source": [
    "print(\"Shape of the residuals:\", vecm_resid.shape)\n",
    "print(\"First few rows of the residuals:\\n\", vecm_resid[:5])"
   ]
  },
  {
   "cell_type": "code",
   "execution_count": 13,
   "metadata": {},
   "outputs": [
    {
     "name": "stdout",
     "output_type": "stream",
     "text": [
      "Newey-West robust covariance estimate for spot equation: [[2.18468239e-03 9.91250059e-05]\n",
      " [9.91250059e-05 2.18455143e-03]]\n",
      "Newey-West robust covariance estimate for future equation: [[0.00224313 0.00010408]\n",
      " [0.00010408 0.00224301]]\n"
     ]
    }
   ],
   "source": [
    "def newey_west_single_eq(residuals, nlags, kernel='bartlett', use_correction=True):\n",
    "    nobs = residuals.shape[0]\n",
    "    gamma0 = np.cov(residuals, bias=True)\n",
    "    gamma_sum = 0\n",
    "\n",
    "    if kernel == 'bartlett':\n",
    "        weights_func = lambda h, nlags: 1 - h / (nlags + 1)\n",
    "    else:\n",
    "        raise NotImplementedError(f\"Kernel '{kernel}' not implemented\")\n",
    "\n",
    "    for h in range(1, nlags + 1):\n",
    "        gamma_h = np.cov(residuals[h:], residuals[:-h], bias=True)\n",
    "        weight = weights_func(h, nlags)\n",
    "        gamma_sum += weight * (gamma_h + gamma_h)\n",
    "\n",
    "    nw_cov = gamma0 + gamma_sum\n",
    "\n",
    "    if use_correction:\n",
    "        correction = nobs / (nobs - nlags)\n",
    "        nw_cov *= correction\n",
    "\n",
    "    return nw_cov\n",
    "\n",
    "nlags = o_lag\n",
    "kernel = 'bartlett'\n",
    "# Extract the residuals for each equation\n",
    "spot_residuals = vecm_resid[:, 0]\n",
    "future_residuals = vecm_resid[:, 1]\n",
    "\n",
    "# Calculate the Newey-West estimator for each equation\n",
    "nw_cov_spot = newey_west_single_eq(spot_residuals, nlags, kernel=kernel, use_correction=True)\n",
    "nw_cov_future = newey_west_single_eq(future_residuals, nlags, kernel=kernel, use_correction=True)\n",
    "\n",
    "# Print the Newey-West robust covariance estimates\n",
    "print(\"Newey-West robust covariance estimate for spot equation:\", nw_cov_spot)\n",
    "print(\"Newey-West robust covariance estimate for future equation:\", nw_cov_future)"
   ]
  },
  {
   "cell_type": "code",
   "execution_count": 14,
   "metadata": {},
   "outputs": [
    {
     "name": "stdout",
     "output_type": "stream",
     "text": [
      "Ljung-Box Q Test (Spot Residuals):\n",
      "       lb_stat     lb_pvalue\n",
      "1     0.179127  6.721246e-01\n",
      "2     1.467731  4.800498e-01\n",
      "3     3.793046  2.846960e-01\n",
      "4     7.528707  1.104501e-01\n",
      "5    15.166137  9.675555e-03\n",
      "6    27.752384  1.046063e-04\n",
      "7    42.838161  3.584432e-07\n",
      "8    61.196993  2.712815e-10\n",
      "9    86.068358  9.979649e-15\n",
      "10  114.864300  5.555340e-20\n",
      "11  145.804905  1.070571e-25\n",
      "12  185.744292  2.819326e-33\n",
      "13  233.734151  1.510455e-42\n",
      "14  290.344883  1.215012e-53\n",
      "15  357.780415  4.950283e-67\n",
      "Autocorrelation found for lags: [5, 6, 7, 8, 9, 10, 11, 12, 13, 14, 15] at significance level 0.01\n",
      "\n"
     ]
    }
   ],
   "source": [
    "ljung_box_test(spot_residuals, lags=o_lag, significance_level = 0.01, title=\"Spot Residuals\")"
   ]
  },
  {
   "cell_type": "code",
   "execution_count": 15,
   "metadata": {},
   "outputs": [
    {
     "name": "stdout",
     "output_type": "stream",
     "text": [
      "Ljung-Box Q Test (Future Residuals):\n",
      "       lb_stat     lb_pvalue\n",
      "1     0.137774  7.105043e-01\n",
      "2     1.201048  5.485241e-01\n",
      "3     3.184543  3.640380e-01\n",
      "4     6.388882  1.719278e-01\n",
      "5    12.954746  2.380656e-02\n",
      "6    23.755525  5.791819e-04\n",
      "7    36.827971  5.056025e-06\n",
      "8    53.346506  9.241058e-09\n",
      "9    76.149014  9.369352e-13\n",
      "10  102.791676  1.503210e-17\n",
      "11  130.878158  1.156145e-22\n",
      "12  166.657852  2.301622e-29\n",
      "13  209.797326  1.322079e-37\n",
      "14  261.863208  1.005239e-47\n",
      "15  323.307117  7.872827e-60\n",
      "Autocorrelation found for lags: [6, 7, 8, 9, 10, 11, 12, 13, 14, 15] at significance level 0.01\n",
      "\n"
     ]
    }
   ],
   "source": [
    "ljung_box_test(future_residuals, lags=o_lag, significance_level = 0.01, title=\"Future Residuals\")"
   ]
  },
  {
   "cell_type": "code",
   "execution_count": 16,
   "metadata": {},
   "outputs": [
    {
     "name": "stdout",
     "output_type": "stream",
     "text": [
      "(0.3765220283224355, 0.9988934200179092, [(1, 1.63), (5, 1.36), (10, 1.22)])\n"
     ]
    }
   ],
   "source": [
    "o_lag = 4\n",
    "print(breaks_cusumolsresid(vecm_resid))"
   ]
  },
  {
   "cell_type": "code",
   "execution_count": 17,
   "metadata": {},
   "outputs": [
    {
     "name": "stdout",
     "output_type": "stream",
     "text": [
      "MIS for spot market: [0.39000737]\n",
      "MIS for future market: [0.60999263]\n"
     ]
    }
   ],
   "source": [
    "# Calculate the innovation covariance matrix\n",
    "omega = np.cov(np.stack([spot_residuals, future_residuals]), bias=True)\n",
    "# Calculate the innovation correlation matrix\n",
    "sigma_s = np.std(spot_residuals)\n",
    "sigma_f = np.std(future_residuals)\n",
    "rho = omega[0, 1] / (sigma_s * sigma_f)\n",
    "phi = np.array([[1, rho], [rho, 1]])\n",
    "\n",
    "# Find the eigenvalues and eigenvectors of the correlation matrix\n",
    "lamda, G = np.linalg.eig(phi)\n",
    "\n",
    "# Calculate the matrix V\n",
    "V = np.diag([sigma_s, sigma_f])\n",
    "\n",
    "# Calculate the matrix M*\n",
    "M_star = np.linalg.inv(np.dot(np.dot(G, np.diag(np.sqrt(lamda))), np.dot(G.T, np.linalg.inv(V))))\n",
    "\n",
    "# Get the error correction coefficient vector\n",
    "alpha_s, alpha_f = vecm_fit.alpha\n",
    "\n",
    "# Calculate the MIS for spot and future markets\n",
    "MIS_s = ((alpha_s * M_star[0, 0] + alpha_f * M_star[1, 0]) ** 2) / ((alpha_s * M_star[0, 0] + alpha_f * M_star[1, 0]) ** 2 + (alpha_s * M_star[0, 1] + alpha_f * M_star[1, 1]) ** 2)\n",
    "MIS_f = ((alpha_s * M_star[0, 1] + alpha_f * M_star[1, 1]) ** 2) / ((alpha_s * M_star[0, 0] + alpha_f * M_star[1, 0]) ** 2 + (alpha_s * M_star[0, 1] + alpha_f * M_star[1, 1]) ** 2)\n",
    "\n",
    "# Print the MIS for spot and future markets\n",
    "print(\"MIS for spot market:\", MIS_s)\n",
    "print(\"MIS for future market:\", MIS_f)"
   ]
  },
  {
   "cell_type": "code",
   "execution_count": null,
   "metadata": {},
   "outputs": [],
   "source": []
  }
 ],
 "metadata": {
  "kernelspec": {
   "display_name": "base",
   "language": "python",
   "name": "python3"
  },
  "language_info": {
   "codemirror_mode": {
    "name": "ipython",
    "version": 3
   },
   "file_extension": ".py",
   "mimetype": "text/x-python",
   "name": "python",
   "nbconvert_exporter": "python",
   "pygments_lexer": "ipython3",
   "version": "3.11.3"
  }
 },
 "nbformat": 4,
 "nbformat_minor": 2
}
