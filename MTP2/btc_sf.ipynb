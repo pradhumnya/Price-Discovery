{
 "cells": [
  {
   "cell_type": "code",
   "execution_count": 112,
   "metadata": {},
   "outputs": [],
   "source": [
    "\n",
    "import pandas as pd\n",
    "import numpy as np\n",
    "import matplotlib.pyplot as plt\n",
    "import warnings\n",
    "from scipy.stats import skew, kurtosis\n",
    "import statsmodels.tsa.vector_ar.vecm as vecm\n",
    "from statsmodels.tsa.vector_ar.vecm import coint_johansen, VECM\n",
    "from statsmodels.tsa.stattools import adfuller, acf\n",
    "from statsmodels.tsa.vector_ar.var_model import VAR\n",
    "from statsmodels.stats.sandwich_covariance import cov_hac\n",
    "from statsmodels.graphics.tsaplots import plot_acf\n",
    "from statsmodels.tools.sm_exceptions import ValueWarning\n",
    "from statsmodels.stats.diagnostic import acorr_ljungbox, het_arch, breaks_cusumolsresid\n",
    "import statsmodels.stats.sandwich_covariance as sw\n",
    "from statsmodels.stats.sandwich_covariance import cov_hac, weights_bartlett\n"
   ]
  },
  {
   "cell_type": "code",
   "execution_count": 6,
   "metadata": {},
   "outputs": [],
   "source": [
    "btc = pd.read_csv('BTCUSDT_filtered.csv')\n",
    "btc_f = pd.read_csv('BTCUSDT_futures_filtered.csv')\n",
    "eth = pd.read_csv('ETHUSDT_filtered.csv')\n",
    "eth_f = pd.read_csv('ETHUSDT_futures_filtered.csv')\n",
    "bch = pd.read_csv('BCHUSDT_filtered.csv')\n",
    "bch_f = pd.read_csv('BCHUSDT_futures_filtered.csv')\n",
    "doge = pd.read_csv('DOGEUSDT_filtered.csv')\n",
    "doge_f = pd.read_csv('DOGEUSDT_futures_filtered.csv')\n",
    "spot_data = btc.copy()\n",
    "futures_data = btc_f.copy()"
   ]
  },
  {
   "cell_type": "code",
   "execution_count": 7,
   "metadata": {},
   "outputs": [],
   "source": [
    "\n",
    "def describe_returns(data):\n",
    "    mean = data['daily_return'].mean()\n",
    "    std_dev = data['daily_return'].std()\n",
    "    skewness = skew(data['daily_return'].dropna())\n",
    "    kurt = kurtosis(data['daily_return'].dropna())\n",
    "    autocorr = data['daily_return'].autocorr()\n",
    "\n",
    "    return {'mean': mean, 'std_dev': std_dev, 'skewness': skewness, 'kurtosis': kurt, 'autocorrelation': autocorr}\n",
    "\n",
    "# Selecting optimal lag order using BIC\n",
    "def select_k_ar_diff(data, maxlags=168, trend='ct'):\n",
    "    bic_values = []\n",
    "    for lag in range(1, maxlags + 1):\n",
    "        model = VAR(data)\n",
    "        result = model.fit(lag, trend=trend)\n",
    "        bic_values.append(result.bic)\n",
    "    \n",
    "    optimal_lag = bic_values.index(min(bic_values)) + 1\n",
    "    return optimal_lag\n",
    "\n",
    "#ADF Test\n",
    "def adf_test(series):\n",
    "    result = adfuller(series)\n",
    "    print(f\"ADF Statistic: {result[0]}\")\n",
    "    print(f\"p-value: {result[1]}\")\n",
    "    for key, value in result[4].items():\n",
    "        print('\\t%s: %.3f' % (key, value))\n",
    "    print(\"\")\n",
    "\n",
    "# Johansen cointegration test\n",
    "def johansen_test(s1, s2):\n",
    "    df = pd.concat([s1, s2], axis=1).dropna()\n",
    "    df.columns = ['spot_log_price', 'futures_log_price']\n",
    "    k_ar_diff = select_k_ar_diff(df)\n",
    "    print(f\"Optimal lag order (k_ar_diff) based on BIC: {k_ar_diff}\")\n",
    "\n",
    "    result = coint_johansen(df, det_order=1, k_ar_diff=k_ar_diff)\n",
    "    print(\"Johansen Cointegration Test:\")\n",
    "    print(\"Trace Statistic:\")\n",
    "    print(result.lr1)\n",
    "    print(\"Critical Values (90%, 95%, 99%):\")\n",
    "    print(result.cvt)\n",
    "    print(\"\")\n",
    "    print(\"Eigen Statistic:\")\n",
    "    print(result.lr2)\n",
    "    print(\"Critical Values (90%, 95%, 99%):\")\n",
    "    print(result.cvm)\n",
    "    print(\"\")\n",
    "    return k_ar_diff\n",
    "\n",
    "# Ljung-Box Q test\n",
    "def ljung_box_test(series, lags=None, significance_level=0.05, title=''):\n",
    "    result = acorr_ljungbox(series, lags=lags, return_df=True)\n",
    "    print(f\"Ljung-Box Q Test ({title}):\")\n",
    "    print(result)\n",
    "\n",
    "    autocorrelated_lags = result[result['lb_pvalue'] < significance_level].index\n",
    "    if autocorrelated_lags.empty:\n",
    "        print(f\"No autocorrelation found up to lag {lags} at significance level {significance_level}\")\n",
    "    else:\n",
    "        print(f\"Autocorrelation found for lags: {autocorrelated_lags.tolist()} at significance level {significance_level}\")\n",
    "    print(\"\")\n",
    "\n",
    "# Engle's ARCH test\n",
    "def arch_test(series, lags=None, title=''):\n",
    "    test_stat, p_value, _, _ = het_arch(series, nlags=lags)\n",
    "    print(f\"Engle's ARCH Test ({title}):\")\n",
    "    print(f\"Test Statistic: {test_stat}\")\n",
    "    print(f\"P-value: {p_value}\")\n",
    "\n",
    "    significance_level = 0.05\n",
    "    if p_value < significance_level:\n",
    "        print(f\"Reject the null hypothesis: Conditional heteroscedasticity is present at significance level {significance_level}\")\n",
    "    else:\n",
    "        print(f\"Fail to reject the null hypothesis: No evidence of conditional heteroscedasticity at significance level {significance_level}\")\n",
    "    print(\"\")\n"
   ]
  },
  {
   "cell_type": "code",
   "execution_count": 8,
   "metadata": {},
   "outputs": [],
   "source": [
    "# Convert the timestamp to datetime\n",
    "spot_data['Date'] = pd.to_datetime(spot_data['Date'])\n",
    "futures_data['Date'] = pd.to_datetime(futures_data['Date'])\n",
    "\n",
    "# Calculate log prices\n",
    "spot_data['log_price'] = np.log(spot_data['Close'])\n",
    "futures_data['log_price'] = np.log(futures_data['Close'])\n",
    "\n",
    "# Resample hourly data to daily data\n",
    "spot_daily = spot_data.resample('D', on='Date').last()\n",
    "futures_daily = futures_data.resample('D', on='Date').last()\n",
    "\n",
    "# Calculate daily returns\n",
    "spot_daily['daily_return'] = spot_daily['log_price'].pct_change()\n",
    "futures_daily['daily_return'] = futures_daily['log_price'].pct_change()\n",
    "spot_daily = spot_daily.dropna()\n",
    "futures_daily = futures_daily.dropna()\n"
   ]
  },
  {
   "cell_type": "code",
   "execution_count": 9,
   "metadata": {},
   "outputs": [
    {
     "name": "stdout",
     "output_type": "stream",
     "text": [
      "Spot Daily Returns Description: {'mean': 0.0001044536975734611, 'std_dev': 0.003982678112315126, 'skewness': -2.3605228101750932, 'kurtosis': 35.29873047836384, 'autocorrelation': -0.1008207431729649}\n",
      "Futures Daily Returns Description: {'mean': 0.00010455724288804958, 'std_dev': 0.00400591110023789, 'skewness': -2.4227222286289307, 'kurtosis': 36.65827517240885, 'autocorrelation': -0.10345752433055017}\n"
     ]
    }
   ],
   "source": [
    "spot_stats = describe_returns(spot_daily)\n",
    "futures_stats = describe_returns(futures_daily)\n",
    "\n",
    "print(\"Spot Daily Returns Description:\", spot_stats)\n",
    "print(\"Futures Daily Returns Description:\", futures_stats)"
   ]
  },
  {
   "cell_type": "code",
   "execution_count": 10,
   "metadata": {},
   "outputs": [
    {
     "name": "stdout",
     "output_type": "stream",
     "text": [
      "ADF Test for Spot Hourly Log Prices:\n",
      "ADF Statistic: -1.754509901496998\n",
      "p-value: 0.40326847319769105\n",
      "\t1%: -3.431\n",
      "\t5%: -2.862\n",
      "\t10%: -2.567\n",
      "\n",
      "\n",
      "ADF Test for Futures Hourly Log Prices:\n",
      "ADF Statistic: -1.7552874075734748\n",
      "p-value: 0.4028751283693091\n",
      "\t1%: -3.431\n",
      "\t5%: -2.862\n",
      "\t10%: -2.567\n",
      "\n"
     ]
    }
   ],
   "source": [
    "# Test for stationarity\n",
    "print(\"ADF Test for Spot Hourly Log Prices:\")\n",
    "adf_test(spot_data['log_price'])\n",
    "print(\"\\nADF Test for Futures Hourly Log Prices:\")\n",
    "adf_test(futures_data['log_price'])"
   ]
  },
  {
   "cell_type": "code",
   "execution_count": 11,
   "metadata": {},
   "outputs": [
    {
     "name": "stdout",
     "output_type": "stream",
     "text": [
      "ADF Test for Spot Hourly Log Prices:\n",
      "ADF Statistic: -23.11644979318639\n",
      "p-value: 0.0\n",
      "\t1%: -3.431\n",
      "\t5%: -2.862\n",
      "\t10%: -2.567\n",
      "\n",
      "\n",
      "ADF Test for Futures Hourly Log Prices:\n",
      "ADF Statistic: -23.14064450408425\n",
      "p-value: 0.0\n",
      "\t1%: -3.431\n",
      "\t5%: -2.862\n",
      "\t10%: -2.567\n",
      "\n"
     ]
    }
   ],
   "source": [
    "spot_data['log_price_diff'] = spot_data['log_price'].diff()\n",
    "futures_data['log_price_diff'] = futures_data['log_price'].diff()\n",
    "\n",
    "spot_data = spot_data.dropna()\n",
    "futures_data = futures_data.dropna()\n",
    "print(\"ADF Test for Spot Hourly Log Prices:\")\n",
    "adf_test(spot_data['log_price_diff'])\n",
    "print(\"\\nADF Test for Futures Hourly Log Prices:\")\n",
    "adf_test(futures_data['log_price_diff'])\n",
    "\n",
    "\n"
   ]
  },
  {
   "cell_type": "code",
   "execution_count": 12,
   "metadata": {},
   "outputs": [
    {
     "name": "stdout",
     "output_type": "stream",
     "text": [
      "Optimal lag order (k_ar_diff) based on BIC: 21\n",
      "Johansen Cointegration Test:\n",
      "Trace Statistic:\n",
      "[3882.79146045 1163.72401442]\n",
      "Critical Values (90%, 95%, 99%):\n",
      "[[16.1619 18.3985 23.1485]\n",
      " [ 2.7055  3.8415  6.6349]]\n",
      "\n",
      "Eigen Statistic:\n",
      "[2719.06744603 1163.72401442]\n",
      "Critical Values (90%, 95%, 99%):\n",
      "[[15.0006 17.1481 21.7465]\n",
      " [ 2.7055  3.8415  6.6349]]\n",
      "\n"
     ]
    }
   ],
   "source": [
    "warnings.filterwarnings(\"ignore\", category=ValueWarning)\n",
    "o_lag = johansen_test(spot_data['log_price_diff'], futures_data['log_price_diff'])"
   ]
  },
  {
   "cell_type": "code",
   "execution_count": 13,
   "metadata": {},
   "outputs": [
    {
     "name": "stdout",
     "output_type": "stream",
     "text": [
      "Ljung-Box Q Test (Spot Log-Price Differences):\n",
      "      lb_stat     lb_pvalue\n",
      "1   13.712185  2.130676e-04\n",
      "2   22.712109  1.169845e-05\n",
      "3   22.731068  4.594531e-05\n",
      "4   28.117837  1.180546e-05\n",
      "5   28.143223  3.412576e-05\n",
      "6   28.540639  7.430256e-05\n",
      "7   29.627859  1.111029e-04\n",
      "8   30.231060  1.923908e-04\n",
      "9   30.232103  4.005523e-04\n",
      "10  37.398031  4.828632e-05\n",
      "11  41.073892  2.340488e-05\n",
      "12  48.442843  2.616935e-06\n",
      "13  63.363577  1.305048e-08\n",
      "14  63.612355  2.702109e-08\n",
      "15  69.499393  5.484409e-09\n",
      "16  71.781883  4.853942e-09\n",
      "17  74.140286  4.129205e-09\n",
      "18  78.633224  1.484646e-09\n",
      "19  79.236178  2.517227e-09\n",
      "20  90.282351  6.616106e-11\n",
      "21  91.337995  9.475728e-11\n",
      "Autocorrelation found for lags: [1, 2, 3, 4, 5, 6, 7, 8, 9, 10, 11, 12, 13, 14, 15, 16, 17, 18, 19, 20, 21] at significance level 0.01\n",
      "\n",
      "Ljung-Box Q Test (Futures Log-Price Differences):\n",
      "      lb_stat     lb_pvalue\n",
      "1    6.588849  1.026195e-02\n",
      "2   19.468258  5.922724e-05\n",
      "3   19.534986  2.118899e-04\n",
      "4   25.699495  3.638039e-05\n",
      "5   25.712281  1.014625e-04\n",
      "6   25.930478  2.293803e-04\n",
      "7   28.493946  1.788806e-04\n",
      "8   29.017812  3.148239e-04\n",
      "9   29.051082  6.353087e-04\n",
      "10  35.547048  1.006715e-04\n",
      "11  39.953744  3.643267e-05\n",
      "12  46.952380  4.751003e-06\n",
      "13  63.014941  1.508749e-08\n",
      "14  63.876585  2.425183e-08\n",
      "15  67.913906  1.048158e-08\n",
      "16  68.836538  1.593940e-08\n",
      "17  74.117748  4.166786e-09\n",
      "18  81.714506  4.287462e-10\n",
      "19  82.416470  7.101767e-10\n",
      "20  96.469740  5.365990e-12\n",
      "21  97.454772  8.112168e-12\n",
      "Autocorrelation found for lags: [2, 3, 4, 5, 6, 7, 8, 9, 10, 11, 12, 13, 14, 15, 16, 17, 18, 19, 20, 21] at significance level 0.01\n",
      "\n"
     ]
    }
   ],
   "source": [
    "\n",
    "ljung_box_test(spot_data['log_price_diff'], lags=o_lag, significance_level = 0.01, title=\"Spot Log-Price Differences\")\n",
    "ljung_box_test(futures_data['log_price_diff'], lags=o_lag, significance_level = 0.01, title=\"Futures Log-Price Differences\")"
   ]
  },
  {
   "cell_type": "code",
   "execution_count": 14,
   "metadata": {},
   "outputs": [
    {
     "name": "stdout",
     "output_type": "stream",
     "text": [
      "Engle's ARCH Test (Spot Log-Price Differences):\n",
      "Test Statistic: 4965.199309781874\n",
      "P-value: 0.0\n",
      "Reject the null hypothesis: Conditional heteroscedasticity is present at significance level 0.05\n",
      "\n",
      "Engle's ARCH Test (Futures Log-Price Differences):\n",
      "Test Statistic: 5006.158486549715\n",
      "P-value: 0.0\n",
      "Reject the null hypothesis: Conditional heteroscedasticity is present at significance level 0.05\n",
      "\n"
     ]
    }
   ],
   "source": [
    "arch_test(spot_data['log_price_diff'], lags=o_lag, title=\"Spot Log-Price Differences\")\n",
    "arch_test(futures_data['log_price_diff'], lags=o_lag, title=\"Futures Log-Price Differences\")"
   ]
  },
  {
   "cell_type": "code",
   "execution_count": 104,
   "metadata": {},
   "outputs": [
    {
     "name": "stdout",
     "output_type": "stream",
     "text": [
      "Det. terms outside the coint. relation & lagged endog. parameters for equation spot\n",
      "==============================================================================\n",
      "                 coef    std err          z      P>|z|      [0.025      0.975]\n",
      "------------------------------------------------------------------------------\n",
      "const      -9.135e-06   4.87e-05     -0.187      0.851      -0.000    8.64e-05\n",
      "L1.spot      -14.8586      2.207     -6.731      0.000     -19.185     -10.532\n",
      "L1.future     13.8149      2.197      6.288      0.000       9.508      18.121\n",
      "L2.spot      -13.8946      2.151     -6.459      0.000     -18.111      -9.678\n",
      "L2.future     12.8758      2.141      6.013      0.000       8.679      17.072\n",
      "L3.spot      -12.8415      2.084     -6.161      0.000     -16.926      -8.757\n",
      "L3.future     11.8712      2.074      5.723      0.000       7.806      15.937\n",
      "L4.spot      -11.9198      2.008     -5.936      0.000     -15.856      -7.984\n",
      "L4.future     10.9855      1.999      5.497      0.000       7.068      14.903\n",
      "L5.spot      -10.7203      1.923     -5.574      0.000     -14.490      -6.951\n",
      "L5.future      9.8331      1.914      5.138      0.000       6.082      13.584\n",
      "L6.spot       -9.7650      1.832     -5.330      0.000     -13.356      -6.174\n",
      "L6.future      8.9277      1.823      4.897      0.000       5.355      12.501\n",
      "L7.spot       -7.9478      1.734     -4.583      0.000     -11.347      -4.549\n",
      "L7.future      7.1553      1.725      4.147      0.000       3.774      10.537\n",
      "L8.spot       -6.5421      1.630     -4.013      0.000      -9.737      -3.347\n",
      "L8.future      5.8046      1.622      3.579      0.000       2.626       8.983\n",
      "L9.spot       -5.2818      1.521     -3.471      0.001      -8.264      -2.300\n",
      "L9.future      4.5978      1.513      3.038      0.002       1.632       7.564\n",
      "L10.spot      -4.2960      1.409     -3.049      0.002      -7.057      -1.535\n",
      "L10.future     3.6825      1.401      2.628      0.009       0.936       6.429\n",
      "L11.spot      -3.8192      1.294     -2.951      0.003      -6.356      -1.282\n",
      "L11.future     3.2705      1.287      2.541      0.011       0.748       5.793\n",
      "L12.spot      -3.2257      1.178     -2.738      0.006      -5.535      -0.917\n",
      "L12.future     2.7410      1.171      2.340      0.019       0.446       5.036\n",
      "L13.spot      -2.9865      1.060     -2.817      0.005      -5.064      -0.909\n",
      "L13.future     2.5757      1.054      2.445      0.014       0.511       4.641\n",
      "L14.spot      -2.6979      0.941     -2.866      0.004      -4.543      -0.853\n",
      "L14.future     2.3355      0.935      2.497      0.013       0.502       4.169\n",
      "L15.spot      -2.5121      0.822     -3.054      0.002      -4.124      -0.900\n",
      "L15.future     2.2120      0.817      2.707      0.007       0.611       3.813\n",
      "L16.spot      -2.4306      0.705     -3.445      0.001      -3.813      -1.048\n",
      "L16.future     2.1670      0.701      3.092      0.002       0.794       3.541\n",
      "L17.spot      -1.6279      0.590     -2.760      0.006      -2.784      -0.472\n",
      "L17.future     1.4010      0.586      2.392      0.017       0.253       2.549\n",
      "L18.spot      -1.8702      0.474     -3.948      0.000      -2.799      -0.942\n",
      "L18.future     1.7047      0.470      3.624      0.000       0.783       2.627\n",
      "L19.spot      -1.3750      0.359     -3.832      0.000      -2.078      -0.672\n",
      "L19.future     1.2448      0.356      3.495      0.000       0.547       1.943\n",
      "L20.spot      -0.8124      0.247     -3.290      0.001      -1.296      -0.328\n",
      "L20.future     0.7127      0.245      2.908      0.004       0.232       1.193\n",
      "L21.spot      -0.3308      0.132     -2.503      0.012      -0.590      -0.072\n",
      "L21.future     0.2845      0.131      2.165      0.030       0.027       0.542\n",
      "Det. terms outside the coint. relation & lagged endog. parameters for equation future\n",
      "==============================================================================\n",
      "                 coef    std err          z      P>|z|      [0.025      0.975]\n",
      "------------------------------------------------------------------------------\n",
      "const      -1.283e-05   4.88e-05     -0.263      0.793      -0.000    8.29e-05\n",
      "L1.spot      -18.7039      2.211     -8.459      0.000     -23.038     -14.370\n",
      "L1.future     17.6440      2.201      8.017      0.000      13.330      21.958\n",
      "L2.spot      -17.3479      2.155     -8.050      0.000     -21.571     -13.124\n",
      "L2.future     16.3144      2.145      7.606      0.000      12.111      20.518\n",
      "L3.spot      -15.9249      2.088     -7.628      0.000     -20.017     -11.833\n",
      "L3.future     14.9429      2.078      7.191      0.000      10.870      19.015\n",
      "L4.spot      -14.6863      2.012     -7.301      0.000     -18.629     -10.744\n",
      "L4.future     13.7413      2.002      6.864      0.000       9.817      17.665\n",
      "L5.spot      -13.2090      1.927     -6.856      0.000     -16.985      -9.433\n",
      "L5.future     12.3132      1.917      6.423      0.000       8.556      16.071\n",
      "L6.spot      -11.9812      1.835     -6.528      0.000     -15.578      -8.384\n",
      "L6.future     11.1369      1.826      6.099      0.000       7.558      14.716\n",
      "L7.spot       -9.8823      1.737     -5.689      0.000     -13.287      -6.478\n",
      "L7.future      9.0834      1.728      5.256      0.000       5.696      12.471\n",
      "L8.spot       -8.2376      1.633     -5.044      0.000     -11.438      -5.037\n",
      "L8.future      7.4951      1.625      4.614      0.000       4.311      10.679\n",
      "L9.spot       -6.7467      1.524     -4.427      0.000      -9.734      -3.759\n",
      "L9.future      6.0584      1.516      3.996      0.000       3.087       9.030\n",
      "L10.spot      -5.5507      1.411     -3.933      0.000      -8.317      -2.785\n",
      "L10.future     4.9331      1.404      3.515      0.000       2.182       7.684\n",
      "L11.spot      -4.8708      1.297     -3.757      0.000      -7.412      -2.329\n",
      "L11.future     4.3186      1.289      3.350      0.001       1.792       6.846\n",
      "L12.spot      -4.0804      1.180     -3.458      0.001      -6.393      -1.767\n",
      "L12.future     3.5928      1.173      3.062      0.002       1.293       5.892\n",
      "L13.spot      -3.6784      1.062     -3.464      0.001      -5.760      -1.597\n",
      "L13.future     3.2656      1.055      3.094      0.002       1.197       5.334\n",
      "L14.spot      -3.2609      0.943     -3.458      0.001      -5.109      -1.413\n",
      "L14.future     2.8990      0.937      3.094      0.002       1.062       4.736\n",
      "L15.spot      -2.9491      0.824     -3.580      0.000      -4.564      -1.334\n",
      "L15.future     2.6485      0.818      3.236      0.001       1.044       4.253\n",
      "L16.spot      -2.7831      0.707     -3.938      0.000      -4.168      -1.398\n",
      "L16.future     2.5208      0.702      3.591      0.000       1.145       3.897\n",
      "L17.spot      -1.8779      0.591     -3.179      0.001      -3.036      -0.720\n",
      "L17.future     1.6510      0.587      2.814      0.005       0.501       2.801\n",
      "L18.spot      -2.0660      0.475     -4.354      0.000      -2.996      -1.136\n",
      "L18.future     1.9015      0.471      4.036      0.000       0.978       2.825\n",
      "L19.spot      -1.4881      0.359     -4.140      0.000      -2.192      -0.784\n",
      "L19.future     1.3597      0.357      3.811      0.000       0.660       2.059\n",
      "L20.spot      -0.8650      0.247     -3.497      0.000      -1.350      -0.380\n",
      "L20.future     0.7660      0.245      3.120      0.002       0.285       1.247\n",
      "L21.spot      -0.3419      0.132     -2.582      0.010      -0.601      -0.082\n",
      "L21.future     0.2955      0.132      2.245      0.025       0.038       0.553\n",
      "                Loading coefficients (alpha) for equation spot                \n",
      "==============================================================================\n",
      "                 coef    std err          z      P>|z|      [0.025      0.975]\n",
      "------------------------------------------------------------------------------\n",
      "ec1           14.2107      2.246      6.328      0.000       9.810      18.612\n",
      "               Loading coefficients (alpha) for equation future               \n",
      "==============================================================================\n",
      "                 coef    std err          z      P>|z|      [0.025      0.975]\n",
      "------------------------------------------------------------------------------\n",
      "ec1           19.6212      2.249      8.723      0.000      15.212      24.030\n",
      "          Cointegration relations for loading-coefficients-column 1           \n",
      "==============================================================================\n",
      "                 coef    std err          z      P>|z|      [0.025      0.975]\n",
      "------------------------------------------------------------------------------\n",
      "beta.1         1.0000          0          0      0.000       1.000       1.000\n",
      "beta.2        -0.9956      0.000  -4067.601      0.000      -0.996      -0.995\n",
      "lin_trend   3.754e-11    5.1e-11      0.736      0.462   -6.25e-11    1.38e-10\n",
      "==============================================================================\n"
     ]
    }
   ],
   "source": [
    "# Fit VECM model\n",
    "data = pd.concat([spot_data['log_price_diff'], futures_data['log_price_diff']], axis=1)\n",
    "data.columns = ['spot', 'future']\n",
    "vecm_model = vecm.VECM(data, k_ar_diff=o_lag , coint_rank=1, deterministic='coli')\n",
    "vecm_fit = vecm_model.fit()\n",
    "vecm_resid = vecm_fit.resid\n",
    "print(vecm_fit.summary())"
   ]
  },
  {
   "cell_type": "code",
   "execution_count": 61,
   "metadata": {},
   "outputs": [
    {
     "name": "stdout",
     "output_type": "stream",
     "text": [
      "Shape of the residuals: (27589, 2)\n",
      "First few rows of the residuals:\n",
      " [[ 0.00188919  0.00200593]\n",
      " [-0.00252174 -0.00237328]\n",
      " [-0.00259513 -0.00250129]\n",
      " [-0.00543952 -0.00531038]\n",
      " [ 0.00233545  0.00240188]]\n"
     ]
    }
   ],
   "source": [
    "print(\"Shape of the residuals:\", vecm_resid.shape)\n",
    "print(\"First few rows of the residuals:\\n\", vecm_resid[:5])"
   ]
  },
  {
   "cell_type": "code",
   "execution_count": 93,
   "metadata": {},
   "outputs": [
    {
     "name": "stdout",
     "output_type": "stream",
     "text": [
      "Newey-West robust covariance estimate for spot equation: [[1.44184225e-03 4.89812568e-05]\n",
      " [4.89812568e-05 1.44174856e-03]]\n",
      "Newey-West robust covariance estimate for future equation: [[1.44681460e-03 4.93770804e-05]\n",
      " [4.93770804e-05 1.44671775e-03]]\n"
     ]
    }
   ],
   "source": [
    "def newey_west_single_eq(residuals, nlags, kernel='bartlett', use_correction=True):\n",
    "    nobs = residuals.shape[0]\n",
    "    gamma0 = np.cov(residuals, bias=True)\n",
    "    gamma_sum = 0\n",
    "\n",
    "    if kernel == 'bartlett':\n",
    "        weights_func = lambda h, nlags: 1 - h / (nlags + 1)\n",
    "    else:\n",
    "        raise NotImplementedError(f\"Kernel '{kernel}' not implemented\")\n",
    "\n",
    "    for h in range(1, nlags + 1):\n",
    "        gamma_h = np.cov(residuals[h:], residuals[:-h], bias=True)\n",
    "        weight = weights_func(h, nlags)\n",
    "        gamma_sum += weight * (gamma_h + gamma_h)\n",
    "\n",
    "    nw_cov = gamma0 + gamma_sum\n",
    "\n",
    "    if use_correction:\n",
    "        correction = nobs / (nobs - nlags)\n",
    "        nw_cov *= correction\n",
    "\n",
    "    return nw_cov\n",
    "\n",
    "nlags = o_lag\n",
    "kernel = 'bartlett'\n",
    "# Extract the residuals for each equation\n",
    "spot_residuals = vecm_resid[:, 0]\n",
    "future_residuals = vecm_resid[:, 1]\n",
    "\n",
    "# Calculate the Newey-West estimator for each equation\n",
    "nw_cov_spot = newey_west_single_eq(spot_residuals, nlags, kernel=kernel, use_correction=True)\n",
    "nw_cov_future = newey_west_single_eq(future_residuals, nlags, kernel=kernel, use_correction=True)\n",
    "\n",
    "# Print the Newey-West robust covariance estimates\n",
    "print(\"Newey-West robust covariance estimate for spot equation:\", nw_cov_spot)\n",
    "print(\"Newey-West robust covariance estimate for future equation:\", nw_cov_future)"
   ]
  },
  {
   "cell_type": "code",
   "execution_count": 105,
   "metadata": {},
   "outputs": [
    {
     "name": "stdout",
     "output_type": "stream",
     "text": [
      "Ljung-Box Q Test (Spot Residuals):\n",
      "       lb_stat     lb_pvalue\n",
      "1     0.082136  7.744239e-01\n",
      "2     0.209619  9.004960e-01\n",
      "3     0.333576  9.535949e-01\n",
      "4     0.743709  9.458314e-01\n",
      "5     1.597328  9.015723e-01\n",
      "6     3.045860  8.030693e-01\n",
      "7     5.556687  5.923555e-01\n",
      "8     8.975851  3.443372e-01\n",
      "9    13.139354  1.564014e-01\n",
      "10   20.141745  2.794017e-02\n",
      "11   29.195617  2.116560e-03\n",
      "12   38.263260  1.390583e-04\n",
      "13   53.978580  6.100496e-07\n",
      "14   72.997834  5.501315e-10\n",
      "15   95.673056  8.570894e-14\n",
      "16  122.452220  1.852253e-18\n",
      "17  154.705085  2.925692e-24\n",
      "18  186.689284  4.514189e-30\n",
      "19  224.616072  4.082847e-37\n",
      "20  265.115909  1.006896e-44\n",
      "21  307.841036  8.046765e-53\n",
      "Autocorrelation found for lags: [11, 12, 13, 14, 15, 16, 17, 18, 19, 20, 21] at significance level 0.01\n",
      "\n"
     ]
    }
   ],
   "source": [
    "ljung_box_test(spot_residuals, lags=o_lag, significance_level = 0.01, title=\"Spot Residuals\")"
   ]
  },
  {
   "cell_type": "code",
   "execution_count": 106,
   "metadata": {},
   "outputs": [
    {
     "name": "stdout",
     "output_type": "stream",
     "text": [
      "Ljung-Box Q Test (Future Residuals):\n",
      "       lb_stat     lb_pvalue\n",
      "1     0.079701  7.777024e-01\n",
      "2     0.201925  9.039670e-01\n",
      "3     0.320345  9.561579e-01\n",
      "4     0.726819  9.479809e-01\n",
      "5     1.548123  9.074505e-01\n",
      "6     2.926065  8.180677e-01\n",
      "7     5.376977  6.140612e-01\n",
      "8     8.621077  3.752622e-01\n",
      "9    12.677384  1.777558e-01\n",
      "10   19.452919  3.487304e-02\n",
      "11   28.201408  3.015078e-03\n",
      "12   36.944867  2.280513e-04\n",
      "13   52.326051  1.183337e-06\n",
      "14   70.873157  1.340453e-09\n",
      "15   93.210479  2.488110e-13\n",
      "16  119.388239  7.200846e-18\n",
      "17  151.116867  1.479236e-23\n",
      "18  182.386218  3.227730e-29\n",
      "19  219.803094  3.774781e-36\n",
      "20  259.670296  1.273548e-43\n",
      "21  301.903224  1.303757e-51\n",
      "Autocorrelation found for lags: [11, 12, 13, 14, 15, 16, 17, 18, 19, 20, 21] at significance level 0.01\n",
      "\n"
     ]
    }
   ],
   "source": [
    "ljung_box_test(future_residuals, lags=o_lag, significance_level = 0.01, title=\"Future Residuals\")"
   ]
  },
  {
   "cell_type": "code",
   "execution_count": 113,
   "metadata": {},
   "outputs": [
    {
     "name": "stdout",
     "output_type": "stream",
     "text": [
      "(0.4481880424951512, 0.9879685106934546, [(1, 1.63), (5, 1.36), (10, 1.22)])\n"
     ]
    }
   ],
   "source": [
    "o_lag = 10\n",
    "print(breaks_cusumolsresid(vecm_resid))"
   ]
  },
  {
   "cell_type": "code",
   "execution_count": 116,
   "metadata": {},
   "outputs": [
    {
     "name": "stdout",
     "output_type": "stream",
     "text": [
      "MIS for spot market: [0.36198286]\n",
      "MIS for future market: [0.63801714]\n"
     ]
    }
   ],
   "source": [
    "# Calculate the innovation covariance matrix\n",
    "omega = np.cov(np.stack([spot_residuals, future_residuals]), bias=True)\n",
    "# Calculate the innovation correlation matrix\n",
    "sigma_s = np.std(spot_residuals)\n",
    "sigma_f = np.std(future_residuals)\n",
    "rho = omega[0, 1] / (sigma_s * sigma_f)\n",
    "phi = np.array([[1, rho], [rho, 1]])\n",
    "\n",
    "# Find the eigenvalues and eigenvectors of the correlation matrix\n",
    "lamda, G = np.linalg.eig(phi)\n",
    "\n",
    "# Calculate the matrix V\n",
    "V = np.diag([sigma_s, sigma_f])\n",
    "\n",
    "# Calculate the matrix M*\n",
    "M_star = np.linalg.inv(np.dot(np.dot(G, np.diag(np.sqrt(lamda))), np.dot(G.T, np.linalg.inv(V))))\n",
    "\n",
    "# Get the error correction coefficient vector\n",
    "alpha_s, alpha_f = vecm_fit.alpha\n",
    "\n",
    "# Calculate the MIS for spot and future markets\n",
    "MIS_s = ((alpha_s * M_star[0, 0] + alpha_f * M_star[1, 0]) ** 2) / ((alpha_s * M_star[0, 0] + alpha_f * M_star[1, 0]) ** 2 + (alpha_s * M_star[0, 1] + alpha_f * M_star[1, 1]) ** 2)\n",
    "MIS_f = ((alpha_s * M_star[0, 1] + alpha_f * M_star[1, 1]) ** 2) / ((alpha_s * M_star[0, 0] + alpha_f * M_star[1, 0]) ** 2 + (alpha_s * M_star[0, 1] + alpha_f * M_star[1, 1]) ** 2)\n",
    "\n",
    "# Print the MIS for spot and future markets\n",
    "print(\"MIS for spot market:\", MIS_s)\n",
    "print(\"MIS for future market:\", MIS_f)"
   ]
  },
  {
   "cell_type": "code",
   "execution_count": null,
   "metadata": {},
   "outputs": [],
   "source": []
  }
 ],
 "metadata": {
  "kernelspec": {
   "display_name": "base",
   "language": "python",
   "name": "python3"
  },
  "language_info": {
   "codemirror_mode": {
    "name": "ipython",
    "version": 3
   },
   "file_extension": ".py",
   "mimetype": "text/x-python",
   "name": "python",
   "nbconvert_exporter": "python",
   "pygments_lexer": "ipython3",
   "version": "3.11.3"
  },
  "orig_nbformat": 4
 },
 "nbformat": 4,
 "nbformat_minor": 2
}
