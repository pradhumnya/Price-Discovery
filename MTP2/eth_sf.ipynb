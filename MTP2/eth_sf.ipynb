{
 "cells": [
  {
   "cell_type": "code",
   "execution_count": 1,
   "metadata": {},
   "outputs": [],
   "source": [
    "import pandas as pd\n",
    "import numpy as np\n",
    "import matplotlib.pyplot as plt\n",
    "import warnings\n",
    "from scipy.stats import skew, kurtosis\n",
    "import statsmodels.tsa.vector_ar.vecm as vecm\n",
    "from statsmodels.tsa.vector_ar.vecm import coint_johansen, VECM\n",
    "from statsmodels.tsa.stattools import adfuller, acf\n",
    "from statsmodels.tsa.vector_ar.var_model import VAR\n",
    "from statsmodels.stats.sandwich_covariance import cov_hac\n",
    "from statsmodels.graphics.tsaplots import plot_acf\n",
    "from statsmodels.tools.sm_exceptions import ValueWarning\n",
    "from statsmodels.stats.diagnostic import acorr_ljungbox, het_arch, breaks_cusumolsresid\n",
    "import statsmodels.stats.sandwich_covariance as sw\n",
    "from statsmodels.stats.sandwich_covariance import cov_hac, weights_bartlett\n",
    "\n"
   ]
  },
  {
   "cell_type": "code",
   "execution_count": 2,
   "metadata": {},
   "outputs": [],
   "source": [
    "btc = pd.read_csv('BTCUSDT_filtered.csv')\n",
    "btc_f = pd.read_csv('BTCUSDT_futures_filtered.csv')\n",
    "eth = pd.read_csv('ETHUSDT_filtered.csv')\n",
    "eth_f = pd.read_csv('ETHUSDT_futures_filtered.csv')\n",
    "bch = pd.read_csv('BCHUSDT_filtered.csv')\n",
    "bch_f = pd.read_csv('BCHUSDT_futures_filtered.csv')\n",
    "doge = pd.read_csv('DOGEUSDT_filtered.csv')\n",
    "doge_f = pd.read_csv('DOGEUSDT_futures_filtered.csv')\n",
    "spot_data = eth.copy()\n",
    "futures_data = eth_f.copy()"
   ]
  },
  {
   "cell_type": "code",
   "execution_count": 3,
   "metadata": {},
   "outputs": [],
   "source": [
    "\n",
    "def describe_returns(data):\n",
    "    mean = data['daily_return'].mean()\n",
    "    std_dev = data['daily_return'].std()\n",
    "    skewness = skew(data['daily_return'].dropna())\n",
    "    kurt = kurtosis(data['daily_return'].dropna())\n",
    "    autocorr = data['daily_return'].autocorr()\n",
    "\n",
    "    return {'mean': mean, 'std_dev': std_dev, 'skewness': skewness, 'kurtosis': kurt, 'autocorrelation': autocorr}\n",
    "\n",
    "# Selecting optimal lag order using BIC\n",
    "def select_k_ar_diff(data, maxlags=168, trend='ct'):\n",
    "    bic_values = []\n",
    "    for lag in range(1, maxlags + 1):\n",
    "        model = VAR(data)\n",
    "        result = model.fit(lag, trend=trend)\n",
    "        bic_values.append(result.bic)\n",
    "    \n",
    "    optimal_lag = bic_values.index(min(bic_values)) + 1\n",
    "    return optimal_lag\n",
    "\n",
    "#ADF Test\n",
    "def adf_test(series):\n",
    "    result = adfuller(series)\n",
    "    print(f\"ADF Statistic: {result[0]}\")\n",
    "    print(f\"p-value: {result[1]}\")\n",
    "    for key, value in result[4].items():\n",
    "        print('\\t%s: %.3f' % (key, value))\n",
    "    print(\"\")\n",
    "\n",
    "# Johansen cointegration test\n",
    "def johansen_test(s1, s2):\n",
    "    df = pd.concat([s1, s2], axis=1).dropna()\n",
    "    df.columns = ['spot_log_price', 'futures_log_price']\n",
    "    k_ar_diff = select_k_ar_diff(df)\n",
    "    print(f\"Optimal lag order (k_ar_diff) based on BIC: {k_ar_diff}\")\n",
    "\n",
    "    result = coint_johansen(df, det_order=1, k_ar_diff=k_ar_diff)\n",
    "    print(\"Johansen Cointegration Test:\")\n",
    "    print(\"Trace Statistic:\")\n",
    "    print(result.lr1)\n",
    "    print(\"Critical Values (90%, 95%, 99%):\")\n",
    "    print(result.cvt)\n",
    "    print(\"\")\n",
    "    print(\"Eigen Statistic:\")\n",
    "    print(result.lr2)\n",
    "    print(\"Critical Values (90%, 95%, 99%):\")\n",
    "    print(result.cvm)\n",
    "    print(\"\")\n",
    "    return k_ar_diff\n",
    "\n",
    "# Ljung-Box Q test\n",
    "def ljung_box_test(series, lags=None, significance_level=0.05, title=''):\n",
    "    result = acorr_ljungbox(series, lags=lags, return_df=True)\n",
    "    print(f\"Ljung-Box Q Test ({title}):\")\n",
    "    print(result)\n",
    "\n",
    "    autocorrelated_lags = result[result['lb_pvalue'] < significance_level].index\n",
    "    if autocorrelated_lags.empty:\n",
    "        print(f\"No autocorrelation found up to lag {lags} at significance level {significance_level}\")\n",
    "    else:\n",
    "        print(f\"Autocorrelation found for lags: {autocorrelated_lags.tolist()} at significance level {significance_level}\")\n",
    "    print(\"\")\n",
    "\n",
    "# Engle's ARCH test\n",
    "def arch_test(series, lags=None, title=''):\n",
    "    test_stat, p_value, _, _ = het_arch(series, nlags=lags)\n",
    "    print(f\"Engle's ARCH Test ({title}):\")\n",
    "    print(f\"Test Statistic: {test_stat}\")\n",
    "    print(f\"P-value: {p_value}\")\n",
    "\n",
    "    significance_level = 0.05\n",
    "    if p_value < significance_level:\n",
    "        print(f\"Reject the null hypothesis: Conditional heteroscedasticity is present at significance level {significance_level}\")\n",
    "    else:\n",
    "        print(f\"Fail to reject the null hypothesis: No evidence of conditional heteroscedasticity at significance level {significance_level}\")\n",
    "    print(\"\")\n"
   ]
  },
  {
   "cell_type": "code",
   "execution_count": 4,
   "metadata": {},
   "outputs": [],
   "source": [
    "# Convert the timestamp to datetime\n",
    "spot_data['Date'] = pd.to_datetime(spot_data['Date'])\n",
    "futures_data['Date'] = pd.to_datetime(futures_data['Date'])\n",
    "\n",
    "# Calculate log prices\n",
    "spot_data['log_price'] = np.log(spot_data['Close'])\n",
    "futures_data['log_price'] = np.log(futures_data['Close'])\n",
    "\n",
    "# Resample hourly data to daily data\n",
    "spot_daily = spot_data.resample('D', on='Date').last()\n",
    "futures_daily = futures_data.resample('D', on='Date').last()\n",
    "\n",
    "# Calculate daily returns\n",
    "spot_daily['daily_return'] = spot_daily['log_price'].pct_change()\n",
    "futures_daily['daily_return'] = futures_daily['log_price'].pct_change()\n",
    "spot_daily = spot_daily.dropna()\n",
    "futures_daily = futures_daily.dropna()\n"
   ]
  },
  {
   "cell_type": "code",
   "execution_count": 5,
   "metadata": {},
   "outputs": [
    {
     "name": "stdout",
     "output_type": "stream",
     "text": [
      "Spot Daily Returns Description: {'mean': 0.0003813296269478374, 'std_dev': 0.007962728963726653, 'skewness': -2.290599501562552, 'kurtosis': 36.66785892830594, 'autocorrelation': -0.12817170858017124}\n",
      "Futures Daily Returns Description: {'mean': 0.0003819435973488823, 'std_dev': 0.00802084713688604, 'skewness': -2.3500107774949988, 'kurtosis': 38.39720118210355, 'autocorrelation': -0.13286766005554326}\n"
     ]
    }
   ],
   "source": [
    "spot_stats = describe_returns(spot_daily)\n",
    "futures_stats = describe_returns(futures_daily)\n",
    "\n",
    "print(\"Spot Daily Returns Description:\", spot_stats)\n",
    "print(\"Futures Daily Returns Description:\", futures_stats)"
   ]
  },
  {
   "cell_type": "code",
   "execution_count": 6,
   "metadata": {},
   "outputs": [
    {
     "name": "stdout",
     "output_type": "stream",
     "text": [
      "ADF Test for Spot Hourly Log Prices:\n",
      "ADF Statistic: -2.1394517943286204\n",
      "p-value: 0.22894946632329571\n",
      "\t1%: -3.431\n",
      "\t5%: -2.862\n",
      "\t10%: -2.567\n",
      "\n",
      "\n",
      "ADF Test for Futures Hourly Log Prices:\n",
      "ADF Statistic: -2.139353099800625\n",
      "p-value: 0.22898765329175103\n",
      "\t1%: -3.431\n",
      "\t5%: -2.862\n",
      "\t10%: -2.567\n",
      "\n"
     ]
    }
   ],
   "source": [
    "# Test for stationarity\n",
    "print(\"ADF Test for Spot Hourly Log Prices:\")\n",
    "adf_test(spot_data['log_price'])\n",
    "print(\"\\nADF Test for Futures Hourly Log Prices:\")\n",
    "adf_test(futures_data['log_price'])"
   ]
  },
  {
   "cell_type": "code",
   "execution_count": 7,
   "metadata": {},
   "outputs": [
    {
     "name": "stdout",
     "output_type": "stream",
     "text": [
      "ADF Test for Spot Hourly Log Prices:\n",
      "ADF Statistic: -23.15504740599775\n",
      "p-value: 0.0\n",
      "\t1%: -3.431\n",
      "\t5%: -2.862\n",
      "\t10%: -2.567\n",
      "\n",
      "\n",
      "ADF Test for Futures Hourly Log Prices:\n",
      "ADF Statistic: -23.196092229002826\n",
      "p-value: 0.0\n",
      "\t1%: -3.431\n",
      "\t5%: -2.862\n",
      "\t10%: -2.567\n",
      "\n"
     ]
    }
   ],
   "source": [
    "spot_data['log_price_diff'] = spot_data['log_price'].diff()\n",
    "futures_data['log_price_diff'] = futures_data['log_price'].diff()\n",
    "\n",
    "spot_data = spot_data.dropna()\n",
    "futures_data = futures_data.dropna()\n",
    "print(\"ADF Test for Spot Hourly Log Prices:\")\n",
    "adf_test(spot_data['log_price_diff'])\n",
    "print(\"\\nADF Test for Futures Hourly Log Prices:\")\n",
    "adf_test(futures_data['log_price_diff'])\n",
    "\n",
    "\n"
   ]
  },
  {
   "cell_type": "code",
   "execution_count": 8,
   "metadata": {},
   "outputs": [
    {
     "name": "stdout",
     "output_type": "stream",
     "text": [
      "Optimal lag order (k_ar_diff) based on BIC: 24\n",
      "Johansen Cointegration Test:\n",
      "Trace Statistic:\n",
      "[3506.93613791 1159.27651096]\n",
      "Critical Values (90%, 95%, 99%):\n",
      "[[16.1619 18.3985 23.1485]\n",
      " [ 2.7055  3.8415  6.6349]]\n",
      "\n",
      "Eigen Statistic:\n",
      "[2347.65962695 1159.27651096]\n",
      "Critical Values (90%, 95%, 99%):\n",
      "[[15.0006 17.1481 21.7465]\n",
      " [ 2.7055  3.8415  6.6349]]\n",
      "\n"
     ]
    }
   ],
   "source": [
    "warnings.filterwarnings(\"ignore\", category=ValueWarning)\n",
    "o_lag = johansen_test(spot_data['log_price_diff'], futures_data['log_price_diff'])"
   ]
  },
  {
   "cell_type": "code",
   "execution_count": 9,
   "metadata": {},
   "outputs": [
    {
     "name": "stdout",
     "output_type": "stream",
     "text": [
      "Ljung-Box Q Test (Spot Log-Price Differences):\n",
      "       lb_stat     lb_pvalue\n",
      "1     1.499492  2.207496e-01\n",
      "2    18.728489  8.573543e-05\n",
      "3    19.706211  1.952790e-04\n",
      "4    26.932413  2.051424e-05\n",
      "5    29.449640  1.892255e-05\n",
      "6    32.174422  1.510812e-05\n",
      "7    32.626864  3.106752e-05\n",
      "8    36.980440  1.160463e-05\n",
      "9    37.187156  2.436933e-05\n",
      "10   40.979117  1.138063e-05\n",
      "11   41.726849  1.805843e-05\n",
      "12   44.550563  1.230124e-05\n",
      "13   65.055869  6.440627e-09\n",
      "14   65.363508  1.317441e-08\n",
      "15   66.784378  1.659432e-08\n",
      "16   66.805122  3.594453e-08\n",
      "17   68.997326  3.207164e-08\n",
      "18   70.112171  4.326029e-08\n",
      "19   70.194103  8.539289e-08\n",
      "20   73.648872  4.569970e-08\n",
      "21   82.270289  3.358589e-09\n",
      "22   90.229194  3.132831e-10\n",
      "23   92.761410  2.433924e-10\n",
      "24  148.596061  6.036816e-20\n",
      "Autocorrelation found for lags: [2, 3, 4, 5, 6, 7, 8, 9, 10, 11, 12, 13, 14, 15, 16, 17, 18, 19, 20, 21, 22, 23, 24] at significance level 0.01\n",
      "\n",
      "Ljung-Box Q Test (Futures Log-Price Differences):\n",
      "       lb_stat     lb_pvalue\n",
      "1     2.114731  1.458876e-01\n",
      "2    18.651633  8.909416e-05\n",
      "3    19.508797  2.145517e-04\n",
      "4    28.465348  1.003701e-05\n",
      "5    31.000038  9.367088e-06\n",
      "6    33.667503  7.798541e-06\n",
      "7    34.242896  1.551216e-05\n",
      "8    39.170345  4.570278e-06\n",
      "9    39.216275  1.053070e-05\n",
      "10   43.046617  4.878488e-06\n",
      "11   43.965373  7.369049e-06\n",
      "12   46.775849  5.097210e-06\n",
      "13   69.121909  1.164208e-09\n",
      "14   69.838446  2.064574e-09\n",
      "15   71.379065  2.534380e-09\n",
      "16   71.391037  5.687226e-09\n",
      "17   74.485848  3.593371e-09\n",
      "18   76.388129  3.643625e-09\n",
      "19   76.461972  7.512352e-09\n",
      "20   80.351170  3.422131e-09\n",
      "21   88.578199  2.835640e-10\n",
      "22   96.567522  2.552028e-11\n",
      "23   99.597580  1.651961e-11\n",
      "24  153.881981  6.272980e-21\n",
      "Autocorrelation found for lags: [2, 3, 4, 5, 6, 7, 8, 9, 10, 11, 12, 13, 14, 15, 16, 17, 18, 19, 20, 21, 22, 23, 24] at significance level 0.01\n",
      "\n"
     ]
    }
   ],
   "source": [
    "\n",
    "ljung_box_test(spot_data['log_price_diff'], lags=o_lag, significance_level = 0.01, title=\"Spot Log-Price Differences\")\n",
    "ljung_box_test(futures_data['log_price_diff'], lags=o_lag, significance_level = 0.01, title=\"Futures Log-Price Differences\")"
   ]
  },
  {
   "cell_type": "code",
   "execution_count": 10,
   "metadata": {},
   "outputs": [
    {
     "name": "stdout",
     "output_type": "stream",
     "text": [
      "Engle's ARCH Test (Spot Log-Price Differences):\n",
      "Test Statistic: 4090.7403899546275\n",
      "P-value: 0.0\n",
      "Reject the null hypothesis: Conditional heteroscedasticity is present at significance level 0.05\n",
      "\n",
      "Engle's ARCH Test (Futures Log-Price Differences):\n",
      "Test Statistic: 4240.112056617033\n",
      "P-value: 0.0\n",
      "Reject the null hypothesis: Conditional heteroscedasticity is present at significance level 0.05\n",
      "\n"
     ]
    }
   ],
   "source": [
    "arch_test(spot_data['log_price_diff'], lags=o_lag, title=\"Spot Log-Price Differences\")\n",
    "arch_test(futures_data['log_price_diff'], lags=o_lag, title=\"Futures Log-Price Differences\")"
   ]
  },
  {
   "cell_type": "code",
   "execution_count": 11,
   "metadata": {},
   "outputs": [
    {
     "name": "stdout",
     "output_type": "stream",
     "text": [
      "Det. terms outside the coint. relation & lagged endog. parameters for equation spot\n",
      "==============================================================================\n",
      "                 coef    std err          z      P>|z|      [0.025      0.975]\n",
      "------------------------------------------------------------------------------\n",
      "const      -1.179e-05   6.18e-05     -0.191      0.849      -0.000       0.000\n",
      "L1.spot      -23.6710      3.105     -7.623      0.000     -29.757     -17.585\n",
      "L1.future     22.6486      3.098      7.311      0.000      16.577      28.720\n",
      "L2.spot      -22.5412      3.044     -7.406      0.000     -28.507     -16.576\n",
      "L2.future     21.5367      3.036      7.094      0.000      15.586      27.487\n",
      "L3.spot      -21.0855      2.967     -7.107      0.000     -26.900     -15.271\n",
      "L3.future     20.1201      2.959      6.799      0.000      14.320      25.920\n",
      "L4.spot      -19.3158      2.877     -6.713      0.000     -24.956     -13.676\n",
      "L4.future     18.3833      2.870      6.405      0.000      12.758      24.009\n",
      "L5.spot      -17.8856      2.779     -6.436      0.000     -23.332     -12.439\n",
      "L5.future     16.9909      2.772      6.130      0.000      11.559      22.423\n",
      "L6.spot      -16.7321      2.672     -6.262      0.000     -21.969     -11.495\n",
      "L6.future     15.8930      2.665      5.964      0.000      10.670      21.116\n",
      "L7.spot      -15.0022      2.557     -5.866      0.000     -20.015      -9.990\n",
      "L7.future     14.2065      2.551      5.570      0.000       9.207      19.206\n",
      "L8.spot      -13.6887      2.435     -5.621      0.000     -18.462      -8.915\n",
      "L8.future     12.9526      2.429      5.333      0.000       8.192      17.713\n",
      "L9.spot      -12.0199      2.308     -5.207      0.000     -16.544      -7.496\n",
      "L9.future     11.3355      2.302      4.924      0.000       6.824      15.847\n",
      "L10.spot     -10.6903      2.176     -4.914      0.000     -14.954      -6.426\n",
      "L10.future    10.0649      2.170      4.639      0.000       5.813      14.317\n",
      "L11.spot      -9.7456      2.039     -4.779      0.000     -13.742      -5.749\n",
      "L11.future     9.1733      2.033      4.511      0.000       5.188      13.158\n",
      "L12.spot      -9.0298      1.899     -4.754      0.000     -12.753      -5.307\n",
      "L12.future     8.5132      1.894      4.495      0.000       4.801      12.225\n",
      "L13.spot      -8.2469      1.756     -4.695      0.000     -11.690      -4.804\n",
      "L13.future     7.8005      1.751      4.454      0.000       4.368      11.233\n",
      "L14.spot      -7.2230      1.613     -4.479      0.000     -10.384      -4.062\n",
      "L14.future     6.8198      1.608      4.242      0.000       3.669       9.971\n",
      "L15.spot      -6.4612      1.467     -4.405      0.000      -9.336      -3.586\n",
      "L15.future     6.1100      1.462      4.179      0.000       3.244       8.976\n",
      "L16.spot      -5.7501      1.319     -4.359      0.000      -8.336      -3.165\n",
      "L16.future     5.4415      1.315      4.139      0.000       2.865       8.018\n",
      "L17.spot      -4.6995      1.169     -4.019      0.000      -6.991      -2.408\n",
      "L17.future     4.4295      1.165      3.801      0.000       2.146       6.713\n",
      "L18.spot      -4.2176      1.017     -4.146      0.000      -6.211      -2.224\n",
      "L18.future     3.9955      1.014      3.942      0.000       2.009       5.982\n",
      "L19.spot      -3.4685      0.866     -4.007      0.000      -5.165      -1.772\n",
      "L19.future     3.2904      0.862      3.816      0.000       1.600       4.980\n",
      "L20.spot      -2.7403      0.716     -3.828      0.000      -4.143      -1.337\n",
      "L20.future     2.5946      0.713      3.640      0.000       1.197       3.992\n",
      "L21.spot      -1.9344      0.568     -3.403      0.001      -3.048      -0.820\n",
      "L21.future     1.8471      0.566      3.264      0.001       0.738       2.956\n",
      "L22.spot      -1.3025      0.425     -3.067      0.002      -2.135      -0.470\n",
      "L22.future     1.2727      0.423      3.012      0.003       0.444       2.101\n",
      "L23.spot      -0.4799      0.286     -1.677      0.094      -1.041       0.081\n",
      "L23.future     0.4806      0.285      1.688      0.091      -0.077       1.039\n",
      "L24.spot       0.0708      0.155      0.457      0.647      -0.233       0.374\n",
      "L24.future    -0.0757      0.154     -0.492      0.623      -0.377       0.226\n",
      "Det. terms outside the coint. relation & lagged endog. parameters for equation future\n",
      "==============================================================================\n",
      "                 coef    std err          z      P>|z|      [0.025      0.975]\n",
      "------------------------------------------------------------------------------\n",
      "const      -1.512e-05   6.21e-05     -0.244      0.808      -0.000       0.000\n",
      "L1.spot      -28.2157      3.121     -9.041      0.000     -34.332     -22.099\n",
      "L1.future     27.1814      3.113      8.731      0.000      21.080      33.283\n",
      "L2.spot      -26.6027      3.059     -8.697      0.000     -32.598     -20.608\n",
      "L2.future     25.5888      3.051      8.387      0.000      19.609      31.569\n",
      "L3.spot      -24.7181      2.982     -8.290      0.000     -30.562     -18.874\n",
      "L3.future     23.7459      2.974      7.985      0.000      17.917      29.575\n",
      "L4.spot      -22.5614      2.892     -7.802      0.000     -28.229     -16.893\n",
      "L4.future     21.6233      2.884      7.496      0.000      15.970      27.277\n",
      "L5.spot      -20.7812      2.793     -7.441      0.000     -26.255     -15.308\n",
      "L5.future     19.8823      2.785      7.138      0.000      14.423      25.342\n",
      "L6.spot      -19.3032      2.685     -7.189      0.000     -24.566     -14.040\n",
      "L6.future     18.4604      2.678      6.893      0.000      13.211      23.710\n",
      "L7.spot      -17.2828      2.570     -6.724      0.000     -22.320     -12.245\n",
      "L7.future     16.4846      2.563      6.431      0.000      11.460      21.509\n",
      "L8.spot      -15.7260      2.448     -6.425      0.000     -20.523     -10.929\n",
      "L8.future     14.9885      2.441      6.140      0.000      10.204      19.773\n",
      "L9.spot      -13.8339      2.320     -5.964      0.000     -18.381      -9.287\n",
      "L9.future     13.1485      2.313      5.684      0.000       8.614      17.683\n",
      "L10.spot     -12.2892      2.186     -5.621      0.000     -16.574      -8.004\n",
      "L10.future    11.6635      2.180      5.349      0.000       7.390      15.937\n",
      "L11.spot     -11.1388      2.049     -5.436      0.000     -15.155      -7.122\n",
      "L11.future    10.5670      2.043      5.171      0.000       6.562      14.572\n",
      "L12.spot     -10.2127      1.909     -5.350      0.000     -13.954      -6.471\n",
      "L12.future     9.6971      1.903      5.095      0.000       5.967      13.428\n",
      "L13.spot      -9.2564      1.765     -5.244      0.000     -12.716      -5.797\n",
      "L13.future     8.8126      1.760      5.007      0.000       5.363      12.262\n",
      "L14.spot      -8.0702      1.621     -4.979      0.000     -11.247      -4.894\n",
      "L14.future     7.6693      1.616      4.747      0.000       4.502      10.836\n",
      "L15.spot      -7.1622      1.474     -4.858      0.000     -10.052      -4.273\n",
      "L15.future     6.8137      1.470      4.637      0.000       3.934       9.694\n",
      "L16.spot      -6.3431      1.326     -4.784      0.000      -8.942      -3.745\n",
      "L16.future     6.0369      1.321      4.569      0.000       3.447       8.627\n",
      "L17.spot      -5.1754      1.175     -4.404      0.000      -7.479      -2.872\n",
      "L17.future     4.9072      1.171      4.190      0.000       2.612       7.203\n",
      "L18.spot      -4.6116      1.022     -4.511      0.000      -6.615      -2.608\n",
      "L18.future     4.3918      1.019      4.312      0.000       2.395       6.388\n",
      "L19.spot      -3.7739      0.870     -4.338      0.000      -5.479      -2.069\n",
      "L19.future     3.5983      0.867      4.153      0.000       1.900       5.297\n",
      "L20.spot      -2.9583      0.719     -4.112      0.000      -4.368      -1.548\n",
      "L20.future     2.8147      0.716      3.929      0.000       1.410       4.219\n",
      "L21.spot      -2.0658      0.571     -3.616      0.000      -3.186      -0.946\n",
      "L21.future     1.9803      0.569      3.482      0.000       0.866       3.095\n",
      "L22.spot      -1.3776      0.427     -3.228      0.001      -2.214      -0.541\n",
      "L22.future     1.3493      0.425      3.177      0.001       0.517       2.182\n",
      "L23.spot      -0.5080      0.288     -1.766      0.077      -1.072       0.056\n",
      "L23.future     0.5094      0.286      1.780      0.075      -0.051       1.070\n",
      "L24.spot       0.0670      0.156      0.431      0.667      -0.238       0.372\n",
      "L24.future    -0.0713      0.155     -0.461      0.645      -0.375       0.232\n",
      "                Loading coefficients (alpha) for equation spot                \n",
      "==============================================================================\n",
      "                 coef    std err          z      P>|z|      [0.025      0.975]\n",
      "------------------------------------------------------------------------------\n",
      "ec1           23.8427      3.147      7.577      0.000      17.675      30.010\n",
      "               Loading coefficients (alpha) for equation future               \n",
      "==============================================================================\n",
      "                 coef    std err          z      P>|z|      [0.025      0.975]\n",
      "------------------------------------------------------------------------------\n",
      "ec1           29.9525      3.162      9.472      0.000      23.755      36.151\n",
      "          Cointegration relations for loading-coefficients-column 1           \n",
      "==============================================================================\n",
      "                 coef    std err          z      P>|z|      [0.025      0.975]\n",
      "------------------------------------------------------------------------------\n",
      "beta.1         1.0000          0          0      0.000       1.000       1.000\n",
      "beta.2        -0.9976      0.000  -5033.082      0.000      -0.998      -0.997\n",
      "lin_trend   2.429e-11   4.98e-11      0.488      0.625   -7.32e-11    1.22e-10\n",
      "==============================================================================\n"
     ]
    }
   ],
   "source": [
    "# Fit VECM model\n",
    "data = pd.concat([spot_data['log_price_diff'], futures_data['log_price_diff']], axis=1)\n",
    "data.columns = ['spot', 'future']\n",
    "vecm_model = vecm.VECM(data, k_ar_diff=o_lag , coint_rank=1, deterministic='coli')\n",
    "vecm_fit = vecm_model.fit()\n",
    "vecm_resid = vecm_fit.resid\n",
    "print(vecm_fit.summary())"
   ]
  },
  {
   "cell_type": "code",
   "execution_count": 12,
   "metadata": {},
   "outputs": [
    {
     "name": "stdout",
     "output_type": "stream",
     "text": [
      "Shape of the residuals: (27658, 2)\n",
      "First few rows of the residuals:\n",
      " [[-0.00506587 -0.00473405]\n",
      " [ 0.00514941  0.00550065]\n",
      " [ 0.00154336  0.00143446]\n",
      " [-0.00089724 -0.00070662]\n",
      " [-0.00023368  0.00031823]]\n"
     ]
    }
   ],
   "source": [
    "print(\"Shape of the residuals:\", vecm_resid.shape)\n",
    "print(\"First few rows of the residuals:\\n\", vecm_resid[:5])"
   ]
  },
  {
   "cell_type": "code",
   "execution_count": 13,
   "metadata": {},
   "outputs": [
    {
     "name": "stdout",
     "output_type": "stream",
     "text": [
      "Newey-West robust covariance estimate for spot equation: [[2.64127351e-03 7.46594144e-05]\n",
      " [7.46594144e-05 2.64098823e-03]]\n",
      "Newey-West robust covariance estimate for future equation: [[2.66767838e-03 7.57600196e-05]\n",
      " [7.57600196e-05 2.66739857e-03]]\n"
     ]
    }
   ],
   "source": [
    "def newey_west_single_eq(residuals, nlags, kernel='bartlett', use_correction=True):\n",
    "    nobs = residuals.shape[0]\n",
    "    gamma0 = np.cov(residuals, bias=True)\n",
    "    gamma_sum = 0\n",
    "\n",
    "    if kernel == 'bartlett':\n",
    "        weights_func = lambda h, nlags: 1 - h / (nlags + 1)\n",
    "    else:\n",
    "        raise NotImplementedError(f\"Kernel '{kernel}' not implemented\")\n",
    "\n",
    "    for h in range(1, nlags + 1):\n",
    "        gamma_h = np.cov(residuals[h:], residuals[:-h], bias=True)\n",
    "        weight = weights_func(h, nlags)\n",
    "        gamma_sum += weight * (gamma_h + gamma_h)\n",
    "\n",
    "    nw_cov = gamma0 + gamma_sum\n",
    "\n",
    "    if use_correction:\n",
    "        correction = nobs / (nobs - nlags)\n",
    "        nw_cov *= correction\n",
    "\n",
    "    return nw_cov\n",
    "\n",
    "nlags = o_lag\n",
    "kernel = 'bartlett'\n",
    "# Extract the residuals for each equation\n",
    "spot_residuals = vecm_resid[:, 0]\n",
    "future_residuals = vecm_resid[:, 1]\n",
    "\n",
    "# Calculate the Newey-West estimator for each equation\n",
    "nw_cov_spot = newey_west_single_eq(spot_residuals, nlags, kernel=kernel, use_correction=True)\n",
    "nw_cov_future = newey_west_single_eq(future_residuals, nlags, kernel=kernel, use_correction=True)\n",
    "\n",
    "# Print the Newey-West robust covariance estimates\n",
    "print(\"Newey-West robust covariance estimate for spot equation:\", nw_cov_spot)\n",
    "print(\"Newey-West robust covariance estimate for future equation:\", nw_cov_future)"
   ]
  },
  {
   "cell_type": "code",
   "execution_count": 14,
   "metadata": {},
   "outputs": [
    {
     "name": "stdout",
     "output_type": "stream",
     "text": [
      "Ljung-Box Q Test (Spot Residuals):\n",
      "       lb_stat     lb_pvalue\n",
      "1     0.000447  9.831364e-01\n",
      "2     0.001622  9.991892e-01\n",
      "3     0.087236  9.933239e-01\n",
      "4     0.346526  9.866161e-01\n",
      "5     0.959759  9.657458e-01\n",
      "6     2.239712  8.963853e-01\n",
      "7     4.610833  7.073333e-01\n",
      "8     6.984219  5.383362e-01\n",
      "9    10.525421  3.096452e-01\n",
      "10   15.228374  1.239549e-01\n",
      "11   21.151173  3.183826e-02\n",
      "12   28.734238  4.313982e-03\n",
      "13   41.048373  9.357909e-05\n",
      "14   54.498192  1.055608e-06\n",
      "15   70.409166  3.776564e-09\n",
      "16   91.166447  1.524561e-12\n",
      "17  115.709214  1.008032e-16\n",
      "18  143.005306  1.684797e-21\n",
      "19  174.325471  4.035394e-27\n",
      "20  207.754024  3.270642e-33\n",
      "21  246.477884  2.090752e-40\n",
      "22  290.372990  1.087839e-48\n",
      "23  337.403833  1.176661e-57\n",
      "24  383.555093  1.766844e-66\n",
      "Autocorrelation found for lags: [12, 13, 14, 15, 16, 17, 18, 19, 20, 21, 22, 23, 24] at significance level 0.01\n",
      "\n"
     ]
    }
   ],
   "source": [
    "ljung_box_test(spot_residuals, lags=o_lag, significance_level = 0.01, title=\"Spot Residuals\")"
   ]
  },
  {
   "cell_type": "code",
   "execution_count": 15,
   "metadata": {},
   "outputs": [
    {
     "name": "stdout",
     "output_type": "stream",
     "text": [
      "Ljung-Box Q Test (Future Residuals):\n",
      "       lb_stat     lb_pvalue\n",
      "1     0.000311  9.859346e-01\n",
      "2     0.001533  9.992339e-01\n",
      "3     0.083532  9.937376e-01\n",
      "4     0.334117  9.875067e-01\n",
      "5     0.929468  9.680517e-01\n",
      "6     2.181724  9.022496e-01\n",
      "7     4.507639  7.197972e-01\n",
      "8     6.804116  5.579072e-01\n",
      "9    10.212356  3.335691e-01\n",
      "10   14.772931  1.405623e-01\n",
      "11   20.521780  3.867784e-02\n",
      "12   27.865935  5.787322e-03\n",
      "13   39.903663  1.432580e-04\n",
      "14   53.078180  1.845068e-06\n",
      "15   68.701204  7.601847e-09\n",
      "16   89.062302  3.722428e-12\n",
      "17  113.121198  3.113106e-16\n",
      "18  139.866231  6.796145e-21\n",
      "19  170.641515  2.128071e-26\n",
      "20  203.579677  2.200758e-32\n",
      "21  241.934705  1.701188e-39\n",
      "22  285.366485  1.118757e-47\n",
      "23  331.941432  1.523474e-56\n",
      "24  377.912255  2.524123e-65\n",
      "Autocorrelation found for lags: [12, 13, 14, 15, 16, 17, 18, 19, 20, 21, 22, 23, 24] at significance level 0.01\n",
      "\n"
     ]
    }
   ],
   "source": [
    "ljung_box_test(future_residuals, lags=o_lag, significance_level = 0.01, title=\"Future Residuals\")"
   ]
  },
  {
   "cell_type": "code",
   "execution_count": 16,
   "metadata": {},
   "outputs": [
    {
     "name": "stdout",
     "output_type": "stream",
     "text": [
      "(0.3206530841066789, 0.9999519128907016, [(1, 1.63), (5, 1.36), (10, 1.22)])\n"
     ]
    }
   ],
   "source": [
    "o_lag = 10\n",
    "print(breaks_cusumolsresid(vecm_resid))"
   ]
  },
  {
   "cell_type": "code",
   "execution_count": 17,
   "metadata": {},
   "outputs": [
    {
     "name": "stdout",
     "output_type": "stream",
     "text": [
      "MIS for spot market: [0.33710612]\n",
      "MIS for future market: [0.66289388]\n"
     ]
    }
   ],
   "source": [
    "# Calculate the innovation covariance matrix\n",
    "omega = np.cov(np.stack([spot_residuals, future_residuals]), bias=True)\n",
    "# Calculate the innovation correlation matrix\n",
    "sigma_s = np.std(spot_residuals)\n",
    "sigma_f = np.std(future_residuals)\n",
    "rho = omega[0, 1] / (sigma_s * sigma_f)\n",
    "phi = np.array([[1, rho], [rho, 1]])\n",
    "\n",
    "# Find the eigenvalues and eigenvectors of the correlation matrix\n",
    "lamda, G = np.linalg.eig(phi)\n",
    "\n",
    "# Calculate the matrix V\n",
    "V = np.diag([sigma_s, sigma_f])\n",
    "\n",
    "# Calculate the matrix M*\n",
    "M_star = np.linalg.inv(np.dot(np.dot(G, np.diag(np.sqrt(lamda))), np.dot(G.T, np.linalg.inv(V))))\n",
    "\n",
    "# Get the error correction coefficient vector\n",
    "alpha_s, alpha_f = vecm_fit.alpha\n",
    "\n",
    "# Calculate the MIS for spot and future markets\n",
    "MIS_s = ((alpha_s * M_star[0, 0] + alpha_f * M_star[1, 0]) ** 2) / ((alpha_s * M_star[0, 0] + alpha_f * M_star[1, 0]) ** 2 + (alpha_s * M_star[0, 1] + alpha_f * M_star[1, 1]) ** 2)\n",
    "MIS_f = ((alpha_s * M_star[0, 1] + alpha_f * M_star[1, 1]) ** 2) / ((alpha_s * M_star[0, 0] + alpha_f * M_star[1, 0]) ** 2 + (alpha_s * M_star[0, 1] + alpha_f * M_star[1, 1]) ** 2)\n",
    "\n",
    "# Print the MIS for spot and future markets\n",
    "print(\"MIS for spot market:\", MIS_s)\n",
    "print(\"MIS for future market:\", MIS_f)"
   ]
  },
  {
   "cell_type": "code",
   "execution_count": null,
   "metadata": {},
   "outputs": [],
   "source": []
  }
 ],
 "metadata": {
  "kernelspec": {
   "display_name": "base",
   "language": "python",
   "name": "python3"
  },
  "language_info": {
   "codemirror_mode": {
    "name": "ipython",
    "version": 3
   },
   "file_extension": ".py",
   "mimetype": "text/x-python",
   "name": "python",
   "nbconvert_exporter": "python",
   "pygments_lexer": "ipython3",
   "version": "3.11.3"
  }
 },
 "nbformat": 4,
 "nbformat_minor": 2
}
